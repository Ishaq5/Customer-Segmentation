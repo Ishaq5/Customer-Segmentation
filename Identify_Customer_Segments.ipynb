{
 "cells": [
  {
   "cell_type": "markdown",
   "metadata": {},
   "source": [
    "# Project: Identify Customer Segments\n",
    "\n",
    "In this project, you will apply unsupervised learning techniques to identify segments of the population that form the core customer base for a mail-order sales company in Germany. These segments can then be used to direct marketing campaigns towards audiences that will have the highest expected rate of returns. The data that you will use has been provided by our partners at Bertelsmann Arvato Analytics, and represents a real-life data science task.\n",
    "\n",
    "This notebook will help you complete this task by providing a framework within which you will perform your analysis steps. In each step of the project, you will see some text describing the subtask that you will perform, followed by one or more code cells for you to complete your work. **Feel free to add additional code and markdown cells as you go along so that you can explore everything in precise chunks.** The code cells provided in the base template will outline only the major tasks, and will usually not be enough to cover all of the minor tasks that comprise it.\n",
    "\n",
    "It should be noted that while there will be precise guidelines on how you should handle certain tasks in the project, there will also be places where an exact specification is not provided. **There will be times in the project where you will need to make and justify your own decisions on how to treat the data.** These are places where there may not be only one way to handle the data. In real-life tasks, there may be many valid ways to approach an analysis task. One of the most important things you can do is clearly document your approach so that other scientists can understand the decisions you've made.\n",
    "\n",
    "At the end of most sections, there will be a Markdown cell labeled **Discussion**. In these cells, you will report your findings for the completed section, as well as document the decisions that you made in your approach to each subtask. **Your project will be evaluated not just on the code used to complete the tasks outlined, but also your communication about your observations and conclusions at each stage.**"
   ]
  },
  {
   "cell_type": "code",
   "execution_count": 1,
   "metadata": {},
   "outputs": [
    {
     "data": {
      "text/plain": [
       "'\\nImport note: The classroom currently uses sklearn version 0.19.\\nIf you need to use an imputer, it is available in sklearn.preprocessing.Imputer,\\ninstead of sklearn.impute as in newer versions of sklearn.\\n'"
      ]
     },
     "execution_count": 1,
     "metadata": {},
     "output_type": "execute_result"
    }
   ],
   "source": [
    "# import libraries here; add more as necessary\n",
    "import numpy as np\n",
    "import pandas as pd\n",
    "import matplotlib.pyplot as plt\n",
    "import seaborn as sns\n",
    "\n",
    "from sklearn.preprocessing import StandardScaler\n",
    "from sklearn.preprocessing import Imputer\n",
    "from sklearn.cluster import KMeans\n",
    "from sklearn.decomposition import PCA\n",
    "\n",
    "# magic word for producing visualizations in notebook\n",
    "%matplotlib inline\n",
    "\n",
    "'''\n",
    "Import note: The classroom currently uses sklearn version 0.19.\n",
    "If you need to use an imputer, it is available in sklearn.preprocessing.Imputer,\n",
    "instead of sklearn.impute as in newer versions of sklearn.\n",
    "'''"
   ]
  },
  {
   "cell_type": "markdown",
   "metadata": {},
   "source": [
    "### Step 0: Load the Data\n",
    "\n",
    "There are four files associated with this project (not including this one):\n",
    "\n",
    "- `Udacity_AZDIAS_Subset.csv`: Demographics data for the general population of Germany; 891211 persons (rows) x 85 features (columns).\n",
    "- `Udacity_CUSTOMERS_Subset.csv`: Demographics data for customers of a mail-order company; 191652 persons (rows) x 85 features (columns).\n",
    "- `Data_Dictionary.md`: Detailed information file about the features in the provided datasets.\n",
    "- `AZDIAS_Feature_Summary.csv`: Summary of feature attributes for demographics data; 85 features (rows) x 4 columns\n",
    "\n",
    "Each row of the demographics files represents a single person, but also includes information outside of individuals, including information about their household, building, and neighborhood. You will use this information to cluster the general population into groups with similar demographic properties. Then, you will see how the people in the customers dataset fit into those created clusters. The hope here is that certain clusters are over-represented in the customers data, as compared to the general population; those over-represented clusters will be assumed to be part of the core userbase. This information can then be used for further applications, such as targeting for a marketing campaign.\n",
    "\n",
    "To start off with, load in the demographics data for the general population into a pandas DataFrame, and do the same for the feature attributes summary. Note for all of the `.csv` data files in this project: they're semicolon (`;`) delimited, so you'll need an additional argument in your [`read_csv()`](https://pandas.pydata.org/pandas-docs/stable/generated/pandas.read_csv.html) call to read in the data properly. Also, considering the size of the main dataset, it may take some time for it to load completely.\n",
    "\n",
    "Once the dataset is loaded, it's recommended that you take a little bit of time just browsing the general structure of the dataset and feature summary file. You'll be getting deep into the innards of the cleaning in the first major step of the project, so gaining some general familiarity can help you get your bearings."
   ]
  },
  {
   "cell_type": "code",
   "execution_count": 2,
   "metadata": {},
   "outputs": [],
   "source": [
    "# Load in the general demographics data.\n",
    "azdias = pd.read_csv('Udacity_AZDIAS_Subset.csv',sep=';')\n",
    "\n",
    "# Load in the feature summary file.\n",
    "feat_info = pd.read_csv('AZDIAS_Feature_Summary.csv',sep=';')"
   ]
  },
  {
   "cell_type": "code",
   "execution_count": 3,
   "metadata": {},
   "outputs": [
    {
     "data": {
      "text/html": [
       "<div>\n",
       "<style scoped>\n",
       "    .dataframe tbody tr th:only-of-type {\n",
       "        vertical-align: middle;\n",
       "    }\n",
       "\n",
       "    .dataframe tbody tr th {\n",
       "        vertical-align: top;\n",
       "    }\n",
       "\n",
       "    .dataframe thead th {\n",
       "        text-align: right;\n",
       "    }\n",
       "</style>\n",
       "<table border=\"1\" class=\"dataframe\">\n",
       "  <thead>\n",
       "    <tr style=\"text-align: right;\">\n",
       "      <th></th>\n",
       "      <th>AGER_TYP</th>\n",
       "      <th>ALTERSKATEGORIE_GROB</th>\n",
       "      <th>ANREDE_KZ</th>\n",
       "      <th>CJT_GESAMTTYP</th>\n",
       "      <th>FINANZ_MINIMALIST</th>\n",
       "      <th>FINANZ_SPARER</th>\n",
       "      <th>FINANZ_VORSORGER</th>\n",
       "      <th>FINANZ_ANLEGER</th>\n",
       "      <th>FINANZ_UNAUFFAELLIGER</th>\n",
       "      <th>FINANZ_HAUSBAUER</th>\n",
       "      <th>...</th>\n",
       "      <th>PLZ8_ANTG1</th>\n",
       "      <th>PLZ8_ANTG2</th>\n",
       "      <th>PLZ8_ANTG3</th>\n",
       "      <th>PLZ8_ANTG4</th>\n",
       "      <th>PLZ8_BAUMAX</th>\n",
       "      <th>PLZ8_HHZ</th>\n",
       "      <th>PLZ8_GBZ</th>\n",
       "      <th>ARBEIT</th>\n",
       "      <th>ORTSGR_KLS9</th>\n",
       "      <th>RELAT_AB</th>\n",
       "    </tr>\n",
       "  </thead>\n",
       "  <tbody>\n",
       "    <tr>\n",
       "      <th>0</th>\n",
       "      <td>-1</td>\n",
       "      <td>2</td>\n",
       "      <td>1</td>\n",
       "      <td>2.0</td>\n",
       "      <td>3</td>\n",
       "      <td>4</td>\n",
       "      <td>3</td>\n",
       "      <td>5</td>\n",
       "      <td>5</td>\n",
       "      <td>3</td>\n",
       "      <td>...</td>\n",
       "      <td>NaN</td>\n",
       "      <td>NaN</td>\n",
       "      <td>NaN</td>\n",
       "      <td>NaN</td>\n",
       "      <td>NaN</td>\n",
       "      <td>NaN</td>\n",
       "      <td>NaN</td>\n",
       "      <td>NaN</td>\n",
       "      <td>NaN</td>\n",
       "      <td>NaN</td>\n",
       "    </tr>\n",
       "    <tr>\n",
       "      <th>1</th>\n",
       "      <td>-1</td>\n",
       "      <td>1</td>\n",
       "      <td>2</td>\n",
       "      <td>5.0</td>\n",
       "      <td>1</td>\n",
       "      <td>5</td>\n",
       "      <td>2</td>\n",
       "      <td>5</td>\n",
       "      <td>4</td>\n",
       "      <td>5</td>\n",
       "      <td>...</td>\n",
       "      <td>2.0</td>\n",
       "      <td>3.0</td>\n",
       "      <td>2.0</td>\n",
       "      <td>1.0</td>\n",
       "      <td>1.0</td>\n",
       "      <td>5.0</td>\n",
       "      <td>4.0</td>\n",
       "      <td>3.0</td>\n",
       "      <td>5.0</td>\n",
       "      <td>4.0</td>\n",
       "    </tr>\n",
       "    <tr>\n",
       "      <th>2</th>\n",
       "      <td>-1</td>\n",
       "      <td>3</td>\n",
       "      <td>2</td>\n",
       "      <td>3.0</td>\n",
       "      <td>1</td>\n",
       "      <td>4</td>\n",
       "      <td>1</td>\n",
       "      <td>2</td>\n",
       "      <td>3</td>\n",
       "      <td>5</td>\n",
       "      <td>...</td>\n",
       "      <td>3.0</td>\n",
       "      <td>3.0</td>\n",
       "      <td>1.0</td>\n",
       "      <td>0.0</td>\n",
       "      <td>1.0</td>\n",
       "      <td>4.0</td>\n",
       "      <td>4.0</td>\n",
       "      <td>3.0</td>\n",
       "      <td>5.0</td>\n",
       "      <td>2.0</td>\n",
       "    </tr>\n",
       "    <tr>\n",
       "      <th>3</th>\n",
       "      <td>2</td>\n",
       "      <td>4</td>\n",
       "      <td>2</td>\n",
       "      <td>2.0</td>\n",
       "      <td>4</td>\n",
       "      <td>2</td>\n",
       "      <td>5</td>\n",
       "      <td>2</td>\n",
       "      <td>1</td>\n",
       "      <td>2</td>\n",
       "      <td>...</td>\n",
       "      <td>2.0</td>\n",
       "      <td>2.0</td>\n",
       "      <td>2.0</td>\n",
       "      <td>0.0</td>\n",
       "      <td>1.0</td>\n",
       "      <td>3.0</td>\n",
       "      <td>4.0</td>\n",
       "      <td>2.0</td>\n",
       "      <td>3.0</td>\n",
       "      <td>3.0</td>\n",
       "    </tr>\n",
       "    <tr>\n",
       "      <th>4</th>\n",
       "      <td>-1</td>\n",
       "      <td>3</td>\n",
       "      <td>1</td>\n",
       "      <td>5.0</td>\n",
       "      <td>4</td>\n",
       "      <td>3</td>\n",
       "      <td>4</td>\n",
       "      <td>1</td>\n",
       "      <td>3</td>\n",
       "      <td>2</td>\n",
       "      <td>...</td>\n",
       "      <td>2.0</td>\n",
       "      <td>4.0</td>\n",
       "      <td>2.0</td>\n",
       "      <td>1.0</td>\n",
       "      <td>2.0</td>\n",
       "      <td>3.0</td>\n",
       "      <td>3.0</td>\n",
       "      <td>4.0</td>\n",
       "      <td>6.0</td>\n",
       "      <td>5.0</td>\n",
       "    </tr>\n",
       "  </tbody>\n",
       "</table>\n",
       "<p>5 rows × 85 columns</p>\n",
       "</div>"
      ],
      "text/plain": [
       "   AGER_TYP  ALTERSKATEGORIE_GROB  ANREDE_KZ  CJT_GESAMTTYP  \\\n",
       "0        -1                     2          1            2.0   \n",
       "1        -1                     1          2            5.0   \n",
       "2        -1                     3          2            3.0   \n",
       "3         2                     4          2            2.0   \n",
       "4        -1                     3          1            5.0   \n",
       "\n",
       "   FINANZ_MINIMALIST  FINANZ_SPARER  FINANZ_VORSORGER  FINANZ_ANLEGER  \\\n",
       "0                  3              4                 3               5   \n",
       "1                  1              5                 2               5   \n",
       "2                  1              4                 1               2   \n",
       "3                  4              2                 5               2   \n",
       "4                  4              3                 4               1   \n",
       "\n",
       "   FINANZ_UNAUFFAELLIGER  FINANZ_HAUSBAUER    ...     PLZ8_ANTG1  PLZ8_ANTG2  \\\n",
       "0                      5                 3    ...            NaN         NaN   \n",
       "1                      4                 5    ...            2.0         3.0   \n",
       "2                      3                 5    ...            3.0         3.0   \n",
       "3                      1                 2    ...            2.0         2.0   \n",
       "4                      3                 2    ...            2.0         4.0   \n",
       "\n",
       "   PLZ8_ANTG3  PLZ8_ANTG4  PLZ8_BAUMAX  PLZ8_HHZ  PLZ8_GBZ  ARBEIT  \\\n",
       "0         NaN         NaN          NaN       NaN       NaN     NaN   \n",
       "1         2.0         1.0          1.0       5.0       4.0     3.0   \n",
       "2         1.0         0.0          1.0       4.0       4.0     3.0   \n",
       "3         2.0         0.0          1.0       3.0       4.0     2.0   \n",
       "4         2.0         1.0          2.0       3.0       3.0     4.0   \n",
       "\n",
       "   ORTSGR_KLS9  RELAT_AB  \n",
       "0          NaN       NaN  \n",
       "1          5.0       4.0  \n",
       "2          5.0       2.0  \n",
       "3          3.0       3.0  \n",
       "4          6.0       5.0  \n",
       "\n",
       "[5 rows x 85 columns]"
      ]
     },
     "execution_count": 3,
     "metadata": {},
     "output_type": "execute_result"
    }
   ],
   "source": [
    "# Check the structure of the data after it's loaded (e.g. print the number of\n",
    "# rows and columns, print the first few rows).\n",
    "\n",
    "# first five rows of azdias dataframe \n",
    "azdias.head()"
   ]
  },
  {
   "cell_type": "code",
   "execution_count": 4,
   "metadata": {},
   "outputs": [
    {
     "name": "stdout",
     "output_type": "stream",
     "text": [
      "In azdias dataframe we have:\n",
      "• Number of rows: 891221\n",
      "• Number of columns: 85\n"
     ]
    }
   ],
   "source": [
    "# number of rows and columns in azdias dataframe\n",
    "rows, columns = azdias.shape\n",
    "print('In azdias dataframe we have:')\n",
    "print('\\u2022 Number of rows:',rows)\n",
    "print('\\u2022 Number of columns:',columns)"
   ]
  },
  {
   "cell_type": "code",
   "execution_count": 5,
   "metadata": {},
   "outputs": [
    {
     "data": {
      "text/html": [
       "<div>\n",
       "<style scoped>\n",
       "    .dataframe tbody tr th:only-of-type {\n",
       "        vertical-align: middle;\n",
       "    }\n",
       "\n",
       "    .dataframe tbody tr th {\n",
       "        vertical-align: top;\n",
       "    }\n",
       "\n",
       "    .dataframe thead th {\n",
       "        text-align: right;\n",
       "    }\n",
       "</style>\n",
       "<table border=\"1\" class=\"dataframe\">\n",
       "  <thead>\n",
       "    <tr style=\"text-align: right;\">\n",
       "      <th></th>\n",
       "      <th>attribute</th>\n",
       "      <th>information_level</th>\n",
       "      <th>type</th>\n",
       "      <th>missing_or_unknown</th>\n",
       "    </tr>\n",
       "  </thead>\n",
       "  <tbody>\n",
       "    <tr>\n",
       "      <th>0</th>\n",
       "      <td>AGER_TYP</td>\n",
       "      <td>person</td>\n",
       "      <td>categorical</td>\n",
       "      <td>[-1,0]</td>\n",
       "    </tr>\n",
       "    <tr>\n",
       "      <th>1</th>\n",
       "      <td>ALTERSKATEGORIE_GROB</td>\n",
       "      <td>person</td>\n",
       "      <td>ordinal</td>\n",
       "      <td>[-1,0,9]</td>\n",
       "    </tr>\n",
       "    <tr>\n",
       "      <th>2</th>\n",
       "      <td>ANREDE_KZ</td>\n",
       "      <td>person</td>\n",
       "      <td>categorical</td>\n",
       "      <td>[-1,0]</td>\n",
       "    </tr>\n",
       "    <tr>\n",
       "      <th>3</th>\n",
       "      <td>CJT_GESAMTTYP</td>\n",
       "      <td>person</td>\n",
       "      <td>categorical</td>\n",
       "      <td>[0]</td>\n",
       "    </tr>\n",
       "    <tr>\n",
       "      <th>4</th>\n",
       "      <td>FINANZ_MINIMALIST</td>\n",
       "      <td>person</td>\n",
       "      <td>ordinal</td>\n",
       "      <td>[-1]</td>\n",
       "    </tr>\n",
       "  </tbody>\n",
       "</table>\n",
       "</div>"
      ],
      "text/plain": [
       "              attribute information_level         type missing_or_unknown\n",
       "0              AGER_TYP            person  categorical             [-1,0]\n",
       "1  ALTERSKATEGORIE_GROB            person      ordinal           [-1,0,9]\n",
       "2             ANREDE_KZ            person  categorical             [-1,0]\n",
       "3         CJT_GESAMTTYP            person  categorical                [0]\n",
       "4     FINANZ_MINIMALIST            person      ordinal               [-1]"
      ]
     },
     "execution_count": 5,
     "metadata": {},
     "output_type": "execute_result"
    }
   ],
   "source": [
    "# first five rows of feat_info dataframe\n",
    "feat_info.head()"
   ]
  },
  {
   "cell_type": "code",
   "execution_count": 6,
   "metadata": {},
   "outputs": [
    {
     "data": {
      "text/plain": [
       "array(['[-1,0]', '[-1,0,9]', '[0]', '[-1]', '[]', '[-1,9]', '[-1,X]',\n",
       "       '[XX]', '[-1,XX]'], dtype=object)"
      ]
     },
     "execution_count": 6,
     "metadata": {},
     "output_type": "execute_result"
    }
   ],
   "source": [
    "feat_info['missing_or_unknown'].unique()"
   ]
  },
  {
   "cell_type": "code",
   "execution_count": 7,
   "metadata": {},
   "outputs": [
    {
     "name": "stdout",
     "output_type": "stream",
     "text": [
      "In feat_info dataframe we have:\n",
      "• Number of rows: 85\n",
      "• Number of columns: 4\n"
     ]
    }
   ],
   "source": [
    "rows, columns = feat_info.shape\n",
    "print('In feat_info dataframe we have:')\n",
    "print('\\u2022 Number of rows:',rows)\n",
    "print('\\u2022 Number of columns:',columns)"
   ]
  },
  {
   "cell_type": "code",
   "execution_count": 8,
   "metadata": {},
   "outputs": [
    {
     "name": "stdout",
     "output_type": "stream",
     "text": [
      "<class 'pandas.core.frame.DataFrame'>\n",
      "RangeIndex: 891221 entries, 0 to 891220\n",
      "Data columns (total 85 columns):\n",
      "AGER_TYP                 891221 non-null int64\n",
      "ALTERSKATEGORIE_GROB     891221 non-null int64\n",
      "ANREDE_KZ                891221 non-null int64\n",
      "CJT_GESAMTTYP            886367 non-null float64\n",
      "FINANZ_MINIMALIST        891221 non-null int64\n",
      "FINANZ_SPARER            891221 non-null int64\n",
      "FINANZ_VORSORGER         891221 non-null int64\n",
      "FINANZ_ANLEGER           891221 non-null int64\n",
      "FINANZ_UNAUFFAELLIGER    891221 non-null int64\n",
      "FINANZ_HAUSBAUER         891221 non-null int64\n",
      "FINANZTYP                891221 non-null int64\n",
      "GEBURTSJAHR              891221 non-null int64\n",
      "GFK_URLAUBERTYP          886367 non-null float64\n",
      "GREEN_AVANTGARDE         891221 non-null int64\n",
      "HEALTH_TYP               891221 non-null int64\n",
      "LP_LEBENSPHASE_FEIN      886367 non-null float64\n",
      "LP_LEBENSPHASE_GROB      886367 non-null float64\n",
      "LP_FAMILIE_FEIN          886367 non-null float64\n",
      "LP_FAMILIE_GROB          886367 non-null float64\n",
      "LP_STATUS_FEIN           886367 non-null float64\n",
      "LP_STATUS_GROB           886367 non-null float64\n",
      "NATIONALITAET_KZ         891221 non-null int64\n",
      "PRAEGENDE_JUGENDJAHRE    891221 non-null int64\n",
      "RETOURTYP_BK_S           886367 non-null float64\n",
      "SEMIO_SOZ                891221 non-null int64\n",
      "SEMIO_FAM                891221 non-null int64\n",
      "SEMIO_REL                891221 non-null int64\n",
      "SEMIO_MAT                891221 non-null int64\n",
      "SEMIO_VERT               891221 non-null int64\n",
      "SEMIO_LUST               891221 non-null int64\n",
      "SEMIO_ERL                891221 non-null int64\n",
      "SEMIO_KULT               891221 non-null int64\n",
      "SEMIO_RAT                891221 non-null int64\n",
      "SEMIO_KRIT               891221 non-null int64\n",
      "SEMIO_DOM                891221 non-null int64\n",
      "SEMIO_KAEM               891221 non-null int64\n",
      "SEMIO_PFLICHT            891221 non-null int64\n",
      "SEMIO_TRADV              891221 non-null int64\n",
      "SHOPPER_TYP              891221 non-null int64\n",
      "SOHO_KZ                  817722 non-null float64\n",
      "TITEL_KZ                 817722 non-null float64\n",
      "VERS_TYP                 891221 non-null int64\n",
      "ZABEOTYP                 891221 non-null int64\n",
      "ALTER_HH                 817722 non-null float64\n",
      "ANZ_PERSONEN             817722 non-null float64\n",
      "ANZ_TITEL                817722 non-null float64\n",
      "HH_EINKOMMEN_SCORE       872873 non-null float64\n",
      "KK_KUNDENTYP             306609 non-null float64\n",
      "W_KEIT_KIND_HH           783619 non-null float64\n",
      "WOHNDAUER_2008           817722 non-null float64\n",
      "ANZ_HAUSHALTE_AKTIV      798073 non-null float64\n",
      "ANZ_HH_TITEL             794213 non-null float64\n",
      "GEBAEUDETYP              798073 non-null float64\n",
      "KONSUMNAEHE              817252 non-null float64\n",
      "MIN_GEBAEUDEJAHR         798073 non-null float64\n",
      "OST_WEST_KZ              798073 non-null object\n",
      "WOHNLAGE                 798073 non-null float64\n",
      "CAMEO_DEUG_2015          792242 non-null object\n",
      "CAMEO_DEU_2015           792242 non-null object\n",
      "CAMEO_INTL_2015          792242 non-null object\n",
      "KBA05_ANTG1              757897 non-null float64\n",
      "KBA05_ANTG2              757897 non-null float64\n",
      "KBA05_ANTG3              757897 non-null float64\n",
      "KBA05_ANTG4              757897 non-null float64\n",
      "KBA05_BAUMAX             757897 non-null float64\n",
      "KBA05_GBZ                757897 non-null float64\n",
      "BALLRAUM                 797481 non-null float64\n",
      "EWDICHTE                 797481 non-null float64\n",
      "INNENSTADT               797481 non-null float64\n",
      "GEBAEUDETYP_RASTER       798066 non-null float64\n",
      "KKK                      770025 non-null float64\n",
      "MOBI_REGIO               757897 non-null float64\n",
      "ONLINE_AFFINITAET        886367 non-null float64\n",
      "REGIOTYP                 770025 non-null float64\n",
      "KBA13_ANZAHL_PKW         785421 non-null float64\n",
      "PLZ8_ANTG1               774706 non-null float64\n",
      "PLZ8_ANTG2               774706 non-null float64\n",
      "PLZ8_ANTG3               774706 non-null float64\n",
      "PLZ8_ANTG4               774706 non-null float64\n",
      "PLZ8_BAUMAX              774706 non-null float64\n",
      "PLZ8_HHZ                 774706 non-null float64\n",
      "PLZ8_GBZ                 774706 non-null float64\n",
      "ARBEIT                   794005 non-null float64\n",
      "ORTSGR_KLS9              794005 non-null float64\n",
      "RELAT_AB                 794005 non-null float64\n",
      "dtypes: float64(49), int64(32), object(4)\n",
      "memory usage: 578.0+ MB\n"
     ]
    }
   ],
   "source": [
    "# basic information about azdias dataframe\n",
    "azdias.info()"
   ]
  },
  {
   "cell_type": "code",
   "execution_count": 9,
   "metadata": {},
   "outputs": [
    {
     "name": "stdout",
     "output_type": "stream",
     "text": [
      "<class 'pandas.core.frame.DataFrame'>\n",
      "RangeIndex: 85 entries, 0 to 84\n",
      "Data columns (total 4 columns):\n",
      "attribute             85 non-null object\n",
      "information_level     85 non-null object\n",
      "type                  85 non-null object\n",
      "missing_or_unknown    85 non-null object\n",
      "dtypes: object(4)\n",
      "memory usage: 2.7+ KB\n"
     ]
    }
   ],
   "source": [
    "# basic information of feat_info dataframe\n",
    "feat_info.info()"
   ]
  },
  {
   "cell_type": "markdown",
   "metadata": {},
   "source": [
    "> **Tip**: Add additional cells to keep everything in reasonably-sized chunks! Keyboard shortcut `esc --> a` (press escape to enter command mode, then press the 'A' key) adds a new cell before the active cell, and `esc --> b` adds a new cell after the active cell. If you need to convert an active cell to a markdown cell, use `esc --> m` and to convert to a code cell, use `esc --> y`. \n",
    "\n",
    "## Step 1: Preprocessing\n",
    "\n",
    "### Step 1.1: Assess Missing Data\n",
    "\n",
    "The feature summary file contains a summary of properties for each demographics data column. You will use this file to help you make cleaning decisions during this stage of the project. First of all, you should assess the demographics data in terms of missing data. Pay attention to the following points as you perform your analysis, and take notes on what you observe. Make sure that you fill in the **Discussion** cell with your findings and decisions at the end of each step that has one!\n",
    "\n",
    "#### Step 1.1.1: Convert Missing Value Codes to NaNs\n",
    "The fourth column of the feature attributes summary (loaded in above as `feat_info`) documents the codes from the data dictionary that indicate missing or unknown data. While the file encodes this as a list (e.g. `[-1,0]`), this will get read in as a string object. You'll need to do a little bit of parsing to make use of it to identify and clean the data. Convert data that matches a 'missing' or 'unknown' value code into a numpy NaN value. You might want to see how much data takes on a 'missing' or 'unknown' code, and how much data is naturally missing, as a point of interest.\n",
    "\n",
    "**As one more reminder, you are encouraged to add additional cells to break up your analysis into manageable chunks.**"
   ]
  },
  {
   "cell_type": "code",
   "execution_count": 10,
   "metadata": {},
   "outputs": [],
   "source": [
    "# Identify missing or unknown data values and convert them to NaNs.\n",
    "\n",
    "# first we indentify missing values in azdias datafram originally\n",
    "# make dataframe to hold missing value counts and percentage\n",
    "missing_dict = {}\n",
    "for col in azdias.columns:\n",
    "    missing_vals = azdias[col].isnull().sum()\n",
    "    if missing_vals > 0:\n",
    "        missing_dict[col] = missing_vals\n",
    "        \n",
    "# dataframe with missing values \n",
    "df_missing = pd.DataFrame(list(missing_dict.items()),columns=['feature','missing_count'])"
   ]
  },
  {
   "cell_type": "code",
   "execution_count": 11,
   "metadata": {
    "scrolled": false
   },
   "outputs": [
    {
     "data": {
      "text/html": [
       "<div>\n",
       "<style scoped>\n",
       "    .dataframe tbody tr th:only-of-type {\n",
       "        vertical-align: middle;\n",
       "    }\n",
       "\n",
       "    .dataframe tbody tr th {\n",
       "        vertical-align: top;\n",
       "    }\n",
       "\n",
       "    .dataframe thead th {\n",
       "        text-align: right;\n",
       "    }\n",
       "</style>\n",
       "<table border=\"1\" class=\"dataframe\">\n",
       "  <thead>\n",
       "    <tr style=\"text-align: right;\">\n",
       "      <th></th>\n",
       "      <th>feature</th>\n",
       "      <th>missing_count</th>\n",
       "      <th>percent_missing</th>\n",
       "    </tr>\n",
       "  </thead>\n",
       "  <tbody>\n",
       "    <tr>\n",
       "      <th>15</th>\n",
       "      <td>KK_KUNDENTYP</td>\n",
       "      <td>584612</td>\n",
       "      <td>65.596749</td>\n",
       "    </tr>\n",
       "    <tr>\n",
       "      <th>32</th>\n",
       "      <td>KBA05_BAUMAX</td>\n",
       "      <td>133324</td>\n",
       "      <td>14.959701</td>\n",
       "    </tr>\n",
       "    <tr>\n",
       "      <th>31</th>\n",
       "      <td>KBA05_ANTG4</td>\n",
       "      <td>133324</td>\n",
       "      <td>14.959701</td>\n",
       "    </tr>\n",
       "    <tr>\n",
       "      <th>28</th>\n",
       "      <td>KBA05_ANTG1</td>\n",
       "      <td>133324</td>\n",
       "      <td>14.959701</td>\n",
       "    </tr>\n",
       "    <tr>\n",
       "      <th>29</th>\n",
       "      <td>KBA05_ANTG2</td>\n",
       "      <td>133324</td>\n",
       "      <td>14.959701</td>\n",
       "    </tr>\n",
       "    <tr>\n",
       "      <th>33</th>\n",
       "      <td>KBA05_GBZ</td>\n",
       "      <td>133324</td>\n",
       "      <td>14.959701</td>\n",
       "    </tr>\n",
       "    <tr>\n",
       "      <th>39</th>\n",
       "      <td>MOBI_REGIO</td>\n",
       "      <td>133324</td>\n",
       "      <td>14.959701</td>\n",
       "    </tr>\n",
       "    <tr>\n",
       "      <th>30</th>\n",
       "      <td>KBA05_ANTG3</td>\n",
       "      <td>133324</td>\n",
       "      <td>14.959701</td>\n",
       "    </tr>\n",
       "    <tr>\n",
       "      <th>38</th>\n",
       "      <td>KKK</td>\n",
       "      <td>121196</td>\n",
       "      <td>13.598872</td>\n",
       "    </tr>\n",
       "    <tr>\n",
       "      <th>41</th>\n",
       "      <td>REGIOTYP</td>\n",
       "      <td>121196</td>\n",
       "      <td>13.598872</td>\n",
       "    </tr>\n",
       "    <tr>\n",
       "      <th>43</th>\n",
       "      <td>PLZ8_ANTG1</td>\n",
       "      <td>116515</td>\n",
       "      <td>13.073637</td>\n",
       "    </tr>\n",
       "    <tr>\n",
       "      <th>45</th>\n",
       "      <td>PLZ8_ANTG3</td>\n",
       "      <td>116515</td>\n",
       "      <td>13.073637</td>\n",
       "    </tr>\n",
       "    <tr>\n",
       "      <th>46</th>\n",
       "      <td>PLZ8_ANTG4</td>\n",
       "      <td>116515</td>\n",
       "      <td>13.073637</td>\n",
       "    </tr>\n",
       "    <tr>\n",
       "      <th>47</th>\n",
       "      <td>PLZ8_BAUMAX</td>\n",
       "      <td>116515</td>\n",
       "      <td>13.073637</td>\n",
       "    </tr>\n",
       "    <tr>\n",
       "      <th>48</th>\n",
       "      <td>PLZ8_HHZ</td>\n",
       "      <td>116515</td>\n",
       "      <td>13.073637</td>\n",
       "    </tr>\n",
       "    <tr>\n",
       "      <th>49</th>\n",
       "      <td>PLZ8_GBZ</td>\n",
       "      <td>116515</td>\n",
       "      <td>13.073637</td>\n",
       "    </tr>\n",
       "    <tr>\n",
       "      <th>44</th>\n",
       "      <td>PLZ8_ANTG2</td>\n",
       "      <td>116515</td>\n",
       "      <td>13.073637</td>\n",
       "    </tr>\n",
       "    <tr>\n",
       "      <th>16</th>\n",
       "      <td>W_KEIT_KIND_HH</td>\n",
       "      <td>107602</td>\n",
       "      <td>12.073549</td>\n",
       "    </tr>\n",
       "    <tr>\n",
       "      <th>42</th>\n",
       "      <td>KBA13_ANZAHL_PKW</td>\n",
       "      <td>105800</td>\n",
       "      <td>11.871354</td>\n",
       "    </tr>\n",
       "    <tr>\n",
       "      <th>26</th>\n",
       "      <td>CAMEO_DEU_2015</td>\n",
       "      <td>98979</td>\n",
       "      <td>11.106000</td>\n",
       "    </tr>\n",
       "    <tr>\n",
       "      <th>25</th>\n",
       "      <td>CAMEO_DEUG_2015</td>\n",
       "      <td>98979</td>\n",
       "      <td>11.106000</td>\n",
       "    </tr>\n",
       "    <tr>\n",
       "      <th>27</th>\n",
       "      <td>CAMEO_INTL_2015</td>\n",
       "      <td>98979</td>\n",
       "      <td>11.106000</td>\n",
       "    </tr>\n",
       "    <tr>\n",
       "      <th>50</th>\n",
       "      <td>ARBEIT</td>\n",
       "      <td>97216</td>\n",
       "      <td>10.908181</td>\n",
       "    </tr>\n",
       "    <tr>\n",
       "      <th>51</th>\n",
       "      <td>ORTSGR_KLS9</td>\n",
       "      <td>97216</td>\n",
       "      <td>10.908181</td>\n",
       "    </tr>\n",
       "    <tr>\n",
       "      <th>52</th>\n",
       "      <td>RELAT_AB</td>\n",
       "      <td>97216</td>\n",
       "      <td>10.908181</td>\n",
       "    </tr>\n",
       "    <tr>\n",
       "      <th>19</th>\n",
       "      <td>ANZ_HH_TITEL</td>\n",
       "      <td>97008</td>\n",
       "      <td>10.884842</td>\n",
       "    </tr>\n",
       "    <tr>\n",
       "      <th>34</th>\n",
       "      <td>BALLRAUM</td>\n",
       "      <td>93740</td>\n",
       "      <td>10.518154</td>\n",
       "    </tr>\n",
       "    <tr>\n",
       "      <th>35</th>\n",
       "      <td>EWDICHTE</td>\n",
       "      <td>93740</td>\n",
       "      <td>10.518154</td>\n",
       "    </tr>\n",
       "    <tr>\n",
       "      <th>36</th>\n",
       "      <td>INNENSTADT</td>\n",
       "      <td>93740</td>\n",
       "      <td>10.518154</td>\n",
       "    </tr>\n",
       "    <tr>\n",
       "      <th>37</th>\n",
       "      <td>GEBAEUDETYP_RASTER</td>\n",
       "      <td>93155</td>\n",
       "      <td>10.452514</td>\n",
       "    </tr>\n",
       "    <tr>\n",
       "      <th>24</th>\n",
       "      <td>WOHNLAGE</td>\n",
       "      <td>93148</td>\n",
       "      <td>10.451729</td>\n",
       "    </tr>\n",
       "    <tr>\n",
       "      <th>23</th>\n",
       "      <td>OST_WEST_KZ</td>\n",
       "      <td>93148</td>\n",
       "      <td>10.451729</td>\n",
       "    </tr>\n",
       "    <tr>\n",
       "      <th>22</th>\n",
       "      <td>MIN_GEBAEUDEJAHR</td>\n",
       "      <td>93148</td>\n",
       "      <td>10.451729</td>\n",
       "    </tr>\n",
       "    <tr>\n",
       "      <th>20</th>\n",
       "      <td>GEBAEUDETYP</td>\n",
       "      <td>93148</td>\n",
       "      <td>10.451729</td>\n",
       "    </tr>\n",
       "    <tr>\n",
       "      <th>18</th>\n",
       "      <td>ANZ_HAUSHALTE_AKTIV</td>\n",
       "      <td>93148</td>\n",
       "      <td>10.451729</td>\n",
       "    </tr>\n",
       "    <tr>\n",
       "      <th>21</th>\n",
       "      <td>KONSUMNAEHE</td>\n",
       "      <td>73969</td>\n",
       "      <td>8.299737</td>\n",
       "    </tr>\n",
       "    <tr>\n",
       "      <th>12</th>\n",
       "      <td>ANZ_PERSONEN</td>\n",
       "      <td>73499</td>\n",
       "      <td>8.247000</td>\n",
       "    </tr>\n",
       "    <tr>\n",
       "      <th>9</th>\n",
       "      <td>SOHO_KZ</td>\n",
       "      <td>73499</td>\n",
       "      <td>8.247000</td>\n",
       "    </tr>\n",
       "    <tr>\n",
       "      <th>10</th>\n",
       "      <td>TITEL_KZ</td>\n",
       "      <td>73499</td>\n",
       "      <td>8.247000</td>\n",
       "    </tr>\n",
       "    <tr>\n",
       "      <th>11</th>\n",
       "      <td>ALTER_HH</td>\n",
       "      <td>73499</td>\n",
       "      <td>8.247000</td>\n",
       "    </tr>\n",
       "    <tr>\n",
       "      <th>13</th>\n",
       "      <td>ANZ_TITEL</td>\n",
       "      <td>73499</td>\n",
       "      <td>8.247000</td>\n",
       "    </tr>\n",
       "    <tr>\n",
       "      <th>17</th>\n",
       "      <td>WOHNDAUER_2008</td>\n",
       "      <td>73499</td>\n",
       "      <td>8.247000</td>\n",
       "    </tr>\n",
       "    <tr>\n",
       "      <th>14</th>\n",
       "      <td>HH_EINKOMMEN_SCORE</td>\n",
       "      <td>18348</td>\n",
       "      <td>2.058749</td>\n",
       "    </tr>\n",
       "    <tr>\n",
       "      <th>40</th>\n",
       "      <td>ONLINE_AFFINITAET</td>\n",
       "      <td>4854</td>\n",
       "      <td>0.544646</td>\n",
       "    </tr>\n",
       "    <tr>\n",
       "      <th>1</th>\n",
       "      <td>GFK_URLAUBERTYP</td>\n",
       "      <td>4854</td>\n",
       "      <td>0.544646</td>\n",
       "    </tr>\n",
       "    <tr>\n",
       "      <th>8</th>\n",
       "      <td>RETOURTYP_BK_S</td>\n",
       "      <td>4854</td>\n",
       "      <td>0.544646</td>\n",
       "    </tr>\n",
       "    <tr>\n",
       "      <th>7</th>\n",
       "      <td>LP_STATUS_GROB</td>\n",
       "      <td>4854</td>\n",
       "      <td>0.544646</td>\n",
       "    </tr>\n",
       "    <tr>\n",
       "      <th>6</th>\n",
       "      <td>LP_STATUS_FEIN</td>\n",
       "      <td>4854</td>\n",
       "      <td>0.544646</td>\n",
       "    </tr>\n",
       "    <tr>\n",
       "      <th>5</th>\n",
       "      <td>LP_FAMILIE_GROB</td>\n",
       "      <td>4854</td>\n",
       "      <td>0.544646</td>\n",
       "    </tr>\n",
       "    <tr>\n",
       "      <th>4</th>\n",
       "      <td>LP_FAMILIE_FEIN</td>\n",
       "      <td>4854</td>\n",
       "      <td>0.544646</td>\n",
       "    </tr>\n",
       "    <tr>\n",
       "      <th>3</th>\n",
       "      <td>LP_LEBENSPHASE_GROB</td>\n",
       "      <td>4854</td>\n",
       "      <td>0.544646</td>\n",
       "    </tr>\n",
       "    <tr>\n",
       "      <th>2</th>\n",
       "      <td>LP_LEBENSPHASE_FEIN</td>\n",
       "      <td>4854</td>\n",
       "      <td>0.544646</td>\n",
       "    </tr>\n",
       "    <tr>\n",
       "      <th>0</th>\n",
       "      <td>CJT_GESAMTTYP</td>\n",
       "      <td>4854</td>\n",
       "      <td>0.544646</td>\n",
       "    </tr>\n",
       "  </tbody>\n",
       "</table>\n",
       "</div>"
      ],
      "text/plain": [
       "                feature  missing_count  percent_missing\n",
       "15         KK_KUNDENTYP         584612        65.596749\n",
       "32         KBA05_BAUMAX         133324        14.959701\n",
       "31          KBA05_ANTG4         133324        14.959701\n",
       "28          KBA05_ANTG1         133324        14.959701\n",
       "29          KBA05_ANTG2         133324        14.959701\n",
       "33            KBA05_GBZ         133324        14.959701\n",
       "39           MOBI_REGIO         133324        14.959701\n",
       "30          KBA05_ANTG3         133324        14.959701\n",
       "38                  KKK         121196        13.598872\n",
       "41             REGIOTYP         121196        13.598872\n",
       "43           PLZ8_ANTG1         116515        13.073637\n",
       "45           PLZ8_ANTG3         116515        13.073637\n",
       "46           PLZ8_ANTG4         116515        13.073637\n",
       "47          PLZ8_BAUMAX         116515        13.073637\n",
       "48             PLZ8_HHZ         116515        13.073637\n",
       "49             PLZ8_GBZ         116515        13.073637\n",
       "44           PLZ8_ANTG2         116515        13.073637\n",
       "16       W_KEIT_KIND_HH         107602        12.073549\n",
       "42     KBA13_ANZAHL_PKW         105800        11.871354\n",
       "26       CAMEO_DEU_2015          98979        11.106000\n",
       "25      CAMEO_DEUG_2015          98979        11.106000\n",
       "27      CAMEO_INTL_2015          98979        11.106000\n",
       "50               ARBEIT          97216        10.908181\n",
       "51          ORTSGR_KLS9          97216        10.908181\n",
       "52             RELAT_AB          97216        10.908181\n",
       "19         ANZ_HH_TITEL          97008        10.884842\n",
       "34             BALLRAUM          93740        10.518154\n",
       "35             EWDICHTE          93740        10.518154\n",
       "36           INNENSTADT          93740        10.518154\n",
       "37   GEBAEUDETYP_RASTER          93155        10.452514\n",
       "24             WOHNLAGE          93148        10.451729\n",
       "23          OST_WEST_KZ          93148        10.451729\n",
       "22     MIN_GEBAEUDEJAHR          93148        10.451729\n",
       "20          GEBAEUDETYP          93148        10.451729\n",
       "18  ANZ_HAUSHALTE_AKTIV          93148        10.451729\n",
       "21          KONSUMNAEHE          73969         8.299737\n",
       "12         ANZ_PERSONEN          73499         8.247000\n",
       "9               SOHO_KZ          73499         8.247000\n",
       "10             TITEL_KZ          73499         8.247000\n",
       "11             ALTER_HH          73499         8.247000\n",
       "13            ANZ_TITEL          73499         8.247000\n",
       "17       WOHNDAUER_2008          73499         8.247000\n",
       "14   HH_EINKOMMEN_SCORE          18348         2.058749\n",
       "40    ONLINE_AFFINITAET           4854         0.544646\n",
       "1       GFK_URLAUBERTYP           4854         0.544646\n",
       "8        RETOURTYP_BK_S           4854         0.544646\n",
       "7        LP_STATUS_GROB           4854         0.544646\n",
       "6        LP_STATUS_FEIN           4854         0.544646\n",
       "5       LP_FAMILIE_GROB           4854         0.544646\n",
       "4       LP_FAMILIE_FEIN           4854         0.544646\n",
       "3   LP_LEBENSPHASE_GROB           4854         0.544646\n",
       "2   LP_LEBENSPHASE_FEIN           4854         0.544646\n",
       "0         CJT_GESAMTTYP           4854         0.544646"
      ]
     },
     "execution_count": 11,
     "metadata": {},
     "output_type": "execute_result"
    }
   ],
   "source": [
    "# calculating percentages for missing values\n",
    "df_missing['percent_missing'] = (df_missing['missing_count'])/azdias.shape[0]*100\n",
    "df_missing.sort_values('percent_missing',ascending=False)"
   ]
  },
  {
   "cell_type": "code",
   "execution_count": 12,
   "metadata": {},
   "outputs": [
    {
     "name": "stdout",
     "output_type": "stream",
     "text": [
      "azdias dataframe has:-\n",
      "• 53 columns as columns with missing values\n",
      "• making about 62% of all columns with missing values\n"
     ]
    }
   ],
   "source": [
    "print('azdias dataframe has:-')\n",
    "print('\\u2022 {} columns as columns with missing values'.format(df_missing.shape[0]))\n",
    "print('\\u2022 making about {}% of all columns with missing values'.format(round((df_missing.shape[0]/azdias.shape[1])*100),2))"
   ]
  },
  {
   "cell_type": "markdown",
   "metadata": {},
   "source": [
    "#### As we can see from above:\n",
    "- `KK_KUNDENTYP` column with most missing values with 65.60% missing.\n",
    "- 7 columns with around 15% of missing values.\n",
    "- 34 colums with missing values between 8% and 14% of all values.\n",
    "- 11 columns with missing values between .5% and 2% of all values."
   ]
  },
  {
   "cell_type": "code",
   "execution_count": 13,
   "metadata": {},
   "outputs": [],
   "source": [
    "# using feat_info dataframe to map other missing values in azdias \n",
    "\n",
    "#cleaning values in col 'missing_or_unknown'\n",
    "missing_val_list = feat_info['missing_or_unknown'].str.replace('[','').str.replace(']','').str.lstrip('-').str.split(',')\n",
    "columns = feat_info['attribute']\n",
    "\n",
    "# mapping values from feat_info to azdias datafram\n",
    "#converting thos values to Nan vlaues\n",
    "for val,col in zip(missing_val_list,columns):\n",
    "    if val[0] != '':\n",
    "        for value in val:\n",
    "            if value.isnumeric():\n",
    "                value = int(value)\n",
    "                azdias.loc[azdias[col] == value, col] = np.nan"
   ]
  },
  {
   "cell_type": "code",
   "execution_count": 14,
   "metadata": {},
   "outputs": [],
   "source": [
    "# makeing dataframe for updated missing values \n",
    "# to be compared with earlier missing values\n",
    "# before mapping values\n",
    "updated_missing = pd.DataFrame(azdias.isnull().sum(),columns=['missing_count'])\n",
    "updated_missing.reset_index(inplace=True)\n",
    "updated_missing.rename({'index':'feature'},axis=1,inplace=True)"
   ]
  },
  {
   "cell_type": "code",
   "execution_count": 15,
   "metadata": {},
   "outputs": [
    {
     "data": {
      "text/html": [
       "<div>\n",
       "<style scoped>\n",
       "    .dataframe tbody tr th:only-of-type {\n",
       "        vertical-align: middle;\n",
       "    }\n",
       "\n",
       "    .dataframe tbody tr th {\n",
       "        vertical-align: top;\n",
       "    }\n",
       "\n",
       "    .dataframe thead th {\n",
       "        text-align: right;\n",
       "    }\n",
       "</style>\n",
       "<table border=\"1\" class=\"dataframe\">\n",
       "  <thead>\n",
       "    <tr style=\"text-align: right;\">\n",
       "      <th></th>\n",
       "      <th>feature</th>\n",
       "      <th>missing_count</th>\n",
       "    </tr>\n",
       "  </thead>\n",
       "  <tbody>\n",
       "    <tr>\n",
       "      <th>40</th>\n",
       "      <td>TITEL_KZ</td>\n",
       "      <td>891008</td>\n",
       "    </tr>\n",
       "    <tr>\n",
       "      <th>21</th>\n",
       "      <td>NATIONALITAET_KZ</td>\n",
       "      <td>792400</td>\n",
       "    </tr>\n",
       "    <tr>\n",
       "      <th>64</th>\n",
       "      <td>KBA05_BAUMAX</td>\n",
       "      <td>684941</td>\n",
       "    </tr>\n",
       "    <tr>\n",
       "      <th>47</th>\n",
       "      <td>KK_KUNDENTYP</td>\n",
       "      <td>626842</td>\n",
       "    </tr>\n",
       "    <tr>\n",
       "      <th>79</th>\n",
       "      <td>PLZ8_BAUMAX</td>\n",
       "      <td>616065</td>\n",
       "    </tr>\n",
       "    <tr>\n",
       "      <th>52</th>\n",
       "      <td>GEBAEUDETYP</td>\n",
       "      <td>553613</td>\n",
       "    </tr>\n",
       "    <tr>\n",
       "      <th>2</th>\n",
       "      <td>ANREDE_KZ</td>\n",
       "      <td>425916</td>\n",
       "    </tr>\n",
       "    <tr>\n",
       "      <th>78</th>\n",
       "      <td>PLZ8_ANTG4</td>\n",
       "      <td>411501</td>\n",
       "    </tr>\n",
       "    <tr>\n",
       "      <th>11</th>\n",
       "      <td>GEBURTSJAHR</td>\n",
       "      <td>392318</td>\n",
       "    </tr>\n",
       "    <tr>\n",
       "      <th>41</th>\n",
       "      <td>VERS_TYP</td>\n",
       "      <td>381303</td>\n",
       "    </tr>\n",
       "    <tr>\n",
       "      <th>77</th>\n",
       "      <td>PLZ8_ANTG3</td>\n",
       "      <td>354393</td>\n",
       "    </tr>\n",
       "    <tr>\n",
       "      <th>43</th>\n",
       "      <td>ALTER_HH</td>\n",
       "      <td>310267</td>\n",
       "    </tr>\n",
       "    <tr>\n",
       "      <th>75</th>\n",
       "      <td>PLZ8_ANTG1</td>\n",
       "      <td>305762</td>\n",
       "    </tr>\n",
       "    <tr>\n",
       "      <th>61</th>\n",
       "      <td>KBA05_ANTG2</td>\n",
       "      <td>297075</td>\n",
       "    </tr>\n",
       "    <tr>\n",
       "      <th>60</th>\n",
       "      <td>KBA05_ANTG1</td>\n",
       "      <td>294548</td>\n",
       "    </tr>\n",
       "    <tr>\n",
       "      <th>70</th>\n",
       "      <td>KKK</td>\n",
       "      <td>258030</td>\n",
       "    </tr>\n",
       "    <tr>\n",
       "      <th>38</th>\n",
       "      <td>SHOPPER_TYP</td>\n",
       "      <td>254761</td>\n",
       "    </tr>\n",
       "    <tr>\n",
       "      <th>5</th>\n",
       "      <td>FINANZ_SPARER</td>\n",
       "      <td>250213</td>\n",
       "    </tr>\n",
       "    <tr>\n",
       "      <th>66</th>\n",
       "      <td>BALLRAUM</td>\n",
       "      <td>245522</td>\n",
       "    </tr>\n",
       "    <tr>\n",
       "      <th>65</th>\n",
       "      <td>KBA05_GBZ</td>\n",
       "      <td>240588</td>\n",
       "    </tr>\n",
       "    <tr>\n",
       "      <th>84</th>\n",
       "      <td>RELAT_AB</td>\n",
       "      <td>240282</td>\n",
       "    </tr>\n",
       "    <tr>\n",
       "      <th>48</th>\n",
       "      <td>W_KEIT_KIND_HH</td>\n",
       "      <td>231694</td>\n",
       "    </tr>\n",
       "    <tr>\n",
       "      <th>62</th>\n",
       "      <td>KBA05_ANTG3</td>\n",
       "      <td>226072</td>\n",
       "    </tr>\n",
       "    <tr>\n",
       "      <th>8</th>\n",
       "      <td>FINANZ_UNAUFFAELLIGER</td>\n",
       "      <td>220597</td>\n",
       "    </tr>\n",
       "    <tr>\n",
       "      <th>63</th>\n",
       "      <td>KBA05_ANTG4</td>\n",
       "      <td>216915</td>\n",
       "    </tr>\n",
       "    <tr>\n",
       "      <th>73</th>\n",
       "      <td>REGIOTYP</td>\n",
       "      <td>212862</td>\n",
       "    </tr>\n",
       "    <tr>\n",
       "      <th>7</th>\n",
       "      <td>FINANZ_ANLEGER</td>\n",
       "      <td>210812</td>\n",
       "    </tr>\n",
       "    <tr>\n",
       "      <th>10</th>\n",
       "      <td>FINANZTYP</td>\n",
       "      <td>199572</td>\n",
       "    </tr>\n",
       "    <tr>\n",
       "      <th>67</th>\n",
       "      <td>EWDICHTE</td>\n",
       "      <td>177791</td>\n",
       "    </tr>\n",
       "    <tr>\n",
       "      <th>76</th>\n",
       "      <td>PLZ8_ANTG2</td>\n",
       "      <td>169728</td>\n",
       "    </tr>\n",
       "    <tr>\n",
       "      <th>...</th>\n",
       "      <td>...</td>\n",
       "      <td>...</td>\n",
       "    </tr>\n",
       "    <tr>\n",
       "      <th>51</th>\n",
       "      <td>ANZ_HH_TITEL</td>\n",
       "      <td>97008</td>\n",
       "    </tr>\n",
       "    <tr>\n",
       "      <th>37</th>\n",
       "      <td>SEMIO_TRADV</td>\n",
       "      <td>96775</td>\n",
       "    </tr>\n",
       "    <tr>\n",
       "      <th>16</th>\n",
       "      <td>LP_LEBENSPHASE_GROB</td>\n",
       "      <td>94572</td>\n",
       "    </tr>\n",
       "    <tr>\n",
       "      <th>69</th>\n",
       "      <td>GEBAEUDETYP_RASTER</td>\n",
       "      <td>93155</td>\n",
       "    </tr>\n",
       "    <tr>\n",
       "      <th>54</th>\n",
       "      <td>MIN_GEBAEUDEJAHR</td>\n",
       "      <td>93148</td>\n",
       "    </tr>\n",
       "    <tr>\n",
       "      <th>55</th>\n",
       "      <td>OST_WEST_KZ</td>\n",
       "      <td>93148</td>\n",
       "    </tr>\n",
       "    <tr>\n",
       "      <th>0</th>\n",
       "      <td>AGER_TYP</td>\n",
       "      <td>88142</td>\n",
       "    </tr>\n",
       "    <tr>\n",
       "      <th>25</th>\n",
       "      <td>SEMIO_FAM</td>\n",
       "      <td>81916</td>\n",
       "    </tr>\n",
       "    <tr>\n",
       "      <th>39</th>\n",
       "      <td>SOHO_KZ</td>\n",
       "      <td>80387</td>\n",
       "    </tr>\n",
       "    <tr>\n",
       "      <th>18</th>\n",
       "      <td>LP_FAMILIE_GROB</td>\n",
       "      <td>77792</td>\n",
       "    </tr>\n",
       "    <tr>\n",
       "      <th>17</th>\n",
       "      <td>LP_FAMILIE_FEIN</td>\n",
       "      <td>77792</td>\n",
       "    </tr>\n",
       "    <tr>\n",
       "      <th>49</th>\n",
       "      <td>WOHNDAUER_2008</td>\n",
       "      <td>74182</td>\n",
       "    </tr>\n",
       "    <tr>\n",
       "      <th>36</th>\n",
       "      <td>SEMIO_PFLICHT</td>\n",
       "      <td>74155</td>\n",
       "    </tr>\n",
       "    <tr>\n",
       "      <th>53</th>\n",
       "      <td>KONSUMNAEHE</td>\n",
       "      <td>73969</td>\n",
       "    </tr>\n",
       "    <tr>\n",
       "      <th>44</th>\n",
       "      <td>ANZ_PERSONEN</td>\n",
       "      <td>73499</td>\n",
       "    </tr>\n",
       "    <tr>\n",
       "      <th>45</th>\n",
       "      <td>ANZ_TITEL</td>\n",
       "      <td>73499</td>\n",
       "    </tr>\n",
       "    <tr>\n",
       "      <th>46</th>\n",
       "      <td>HH_EINKOMMEN_SCORE</td>\n",
       "      <td>71580</td>\n",
       "    </tr>\n",
       "    <tr>\n",
       "      <th>24</th>\n",
       "      <td>SEMIO_SOZ</td>\n",
       "      <td>62088</td>\n",
       "    </tr>\n",
       "    <tr>\n",
       "      <th>33</th>\n",
       "      <td>SEMIO_KRIT</td>\n",
       "      <td>54947</td>\n",
       "    </tr>\n",
       "    <tr>\n",
       "      <th>35</th>\n",
       "      <td>SEMIO_KAEM</td>\n",
       "      <td>47203</td>\n",
       "    </tr>\n",
       "    <tr>\n",
       "      <th>32</th>\n",
       "      <td>SEMIO_RAT</td>\n",
       "      <td>46774</td>\n",
       "    </tr>\n",
       "    <tr>\n",
       "      <th>34</th>\n",
       "      <td>SEMIO_DOM</td>\n",
       "      <td>44762</td>\n",
       "    </tr>\n",
       "    <tr>\n",
       "      <th>30</th>\n",
       "      <td>SEMIO_ERL</td>\n",
       "      <td>42696</td>\n",
       "    </tr>\n",
       "    <tr>\n",
       "      <th>19</th>\n",
       "      <td>LP_STATUS_FEIN</td>\n",
       "      <td>4854</td>\n",
       "    </tr>\n",
       "    <tr>\n",
       "      <th>72</th>\n",
       "      <td>ONLINE_AFFINITAET</td>\n",
       "      <td>4854</td>\n",
       "    </tr>\n",
       "    <tr>\n",
       "      <th>23</th>\n",
       "      <td>RETOURTYP_BK_S</td>\n",
       "      <td>4854</td>\n",
       "    </tr>\n",
       "    <tr>\n",
       "      <th>12</th>\n",
       "      <td>GFK_URLAUBERTYP</td>\n",
       "      <td>4854</td>\n",
       "    </tr>\n",
       "    <tr>\n",
       "      <th>3</th>\n",
       "      <td>CJT_GESAMTTYP</td>\n",
       "      <td>4854</td>\n",
       "    </tr>\n",
       "    <tr>\n",
       "      <th>20</th>\n",
       "      <td>LP_STATUS_GROB</td>\n",
       "      <td>4854</td>\n",
       "    </tr>\n",
       "    <tr>\n",
       "      <th>13</th>\n",
       "      <td>GREEN_AVANTGARDE</td>\n",
       "      <td>0</td>\n",
       "    </tr>\n",
       "  </tbody>\n",
       "</table>\n",
       "<p>85 rows × 2 columns</p>\n",
       "</div>"
      ],
      "text/plain": [
       "                  feature  missing_count\n",
       "40               TITEL_KZ         891008\n",
       "21       NATIONALITAET_KZ         792400\n",
       "64           KBA05_BAUMAX         684941\n",
       "47           KK_KUNDENTYP         626842\n",
       "79            PLZ8_BAUMAX         616065\n",
       "52            GEBAEUDETYP         553613\n",
       "2               ANREDE_KZ         425916\n",
       "78             PLZ8_ANTG4         411501\n",
       "11            GEBURTSJAHR         392318\n",
       "41               VERS_TYP         381303\n",
       "77             PLZ8_ANTG3         354393\n",
       "43               ALTER_HH         310267\n",
       "75             PLZ8_ANTG1         305762\n",
       "61            KBA05_ANTG2         297075\n",
       "60            KBA05_ANTG1         294548\n",
       "70                    KKK         258030\n",
       "38            SHOPPER_TYP         254761\n",
       "5           FINANZ_SPARER         250213\n",
       "66               BALLRAUM         245522\n",
       "65              KBA05_GBZ         240588\n",
       "84               RELAT_AB         240282\n",
       "48         W_KEIT_KIND_HH         231694\n",
       "62            KBA05_ANTG3         226072\n",
       "8   FINANZ_UNAUFFAELLIGER         220597\n",
       "63            KBA05_ANTG4         216915\n",
       "73               REGIOTYP         212862\n",
       "7          FINANZ_ANLEGER         210812\n",
       "10              FINANZTYP         199572\n",
       "67               EWDICHTE         177791\n",
       "76             PLZ8_ANTG2         169728\n",
       "..                    ...            ...\n",
       "51           ANZ_HH_TITEL          97008\n",
       "37            SEMIO_TRADV          96775\n",
       "16    LP_LEBENSPHASE_GROB          94572\n",
       "69     GEBAEUDETYP_RASTER          93155\n",
       "54       MIN_GEBAEUDEJAHR          93148\n",
       "55            OST_WEST_KZ          93148\n",
       "0                AGER_TYP          88142\n",
       "25              SEMIO_FAM          81916\n",
       "39                SOHO_KZ          80387\n",
       "18        LP_FAMILIE_GROB          77792\n",
       "17        LP_FAMILIE_FEIN          77792\n",
       "49         WOHNDAUER_2008          74182\n",
       "36          SEMIO_PFLICHT          74155\n",
       "53            KONSUMNAEHE          73969\n",
       "44           ANZ_PERSONEN          73499\n",
       "45              ANZ_TITEL          73499\n",
       "46     HH_EINKOMMEN_SCORE          71580\n",
       "24              SEMIO_SOZ          62088\n",
       "33             SEMIO_KRIT          54947\n",
       "35             SEMIO_KAEM          47203\n",
       "32              SEMIO_RAT          46774\n",
       "34              SEMIO_DOM          44762\n",
       "30              SEMIO_ERL          42696\n",
       "19         LP_STATUS_FEIN           4854\n",
       "72      ONLINE_AFFINITAET           4854\n",
       "23         RETOURTYP_BK_S           4854\n",
       "12        GFK_URLAUBERTYP           4854\n",
       "3           CJT_GESAMTTYP           4854\n",
       "20         LP_STATUS_GROB           4854\n",
       "13       GREEN_AVANTGARDE              0\n",
       "\n",
       "[85 rows x 2 columns]"
      ]
     },
     "execution_count": 15,
     "metadata": {},
     "output_type": "execute_result"
    }
   ],
   "source": [
    "updated_missing.sort_values(by='missing_count',ascending=False)"
   ]
  },
  {
   "cell_type": "markdown",
   "metadata": {},
   "source": [
    "**Note:** \n",
    "\n",
    "we can see that we have `84` columns in `azdias` dataframe with missing values after we mapped values from `feat_info` dataframe."
   ]
  },
  {
   "cell_type": "markdown",
   "metadata": {},
   "source": [
    "**It seems there are changes in missing values in some column. \n",
    "Next, we will merge both ``df_missing`` and ``updated_missing`` to \n",
    "compare the chages.**"
   ]
  },
  {
   "cell_type": "code",
   "execution_count": 16,
   "metadata": {},
   "outputs": [
    {
     "data": {
      "text/html": [
       "<div>\n",
       "<style scoped>\n",
       "    .dataframe tbody tr th:only-of-type {\n",
       "        vertical-align: middle;\n",
       "    }\n",
       "\n",
       "    .dataframe tbody tr th {\n",
       "        vertical-align: top;\n",
       "    }\n",
       "\n",
       "    .dataframe thead th {\n",
       "        text-align: right;\n",
       "    }\n",
       "</style>\n",
       "<table border=\"1\" class=\"dataframe\">\n",
       "  <thead>\n",
       "    <tr style=\"text-align: right;\">\n",
       "      <th></th>\n",
       "      <th>feature</th>\n",
       "      <th>missing_count_initial</th>\n",
       "      <th>percent_missing</th>\n",
       "      <th>missing_count_updated</th>\n",
       "      <th>percent_missing_updated</th>\n",
       "    </tr>\n",
       "  </thead>\n",
       "  <tbody>\n",
       "    <tr>\n",
       "      <th>10</th>\n",
       "      <td>TITEL_KZ</td>\n",
       "      <td>73499.0</td>\n",
       "      <td>8.247000</td>\n",
       "      <td>891008</td>\n",
       "      <td>99.976100</td>\n",
       "    </tr>\n",
       "    <tr>\n",
       "      <th>66</th>\n",
       "      <td>NATIONALITAET_KZ</td>\n",
       "      <td>NaN</td>\n",
       "      <td>NaN</td>\n",
       "      <td>792400</td>\n",
       "      <td>88.911729</td>\n",
       "    </tr>\n",
       "    <tr>\n",
       "      <th>32</th>\n",
       "      <td>KBA05_BAUMAX</td>\n",
       "      <td>133324.0</td>\n",
       "      <td>14.959701</td>\n",
       "      <td>684941</td>\n",
       "      <td>76.854226</td>\n",
       "    </tr>\n",
       "    <tr>\n",
       "      <th>15</th>\n",
       "      <td>KK_KUNDENTYP</td>\n",
       "      <td>584612.0</td>\n",
       "      <td>65.596749</td>\n",
       "      <td>626842</td>\n",
       "      <td>70.335192</td>\n",
       "    </tr>\n",
       "    <tr>\n",
       "      <th>47</th>\n",
       "      <td>PLZ8_BAUMAX</td>\n",
       "      <td>116515.0</td>\n",
       "      <td>13.073637</td>\n",
       "      <td>616065</td>\n",
       "      <td>69.125952</td>\n",
       "    </tr>\n",
       "    <tr>\n",
       "      <th>20</th>\n",
       "      <td>GEBAEUDETYP</td>\n",
       "      <td>93148.0</td>\n",
       "      <td>10.451729</td>\n",
       "      <td>553613</td>\n",
       "      <td>62.118487</td>\n",
       "    </tr>\n",
       "    <tr>\n",
       "      <th>55</th>\n",
       "      <td>ANREDE_KZ</td>\n",
       "      <td>NaN</td>\n",
       "      <td>NaN</td>\n",
       "      <td>425916</td>\n",
       "      <td>47.790167</td>\n",
       "    </tr>\n",
       "    <tr>\n",
       "      <th>46</th>\n",
       "      <td>PLZ8_ANTG4</td>\n",
       "      <td>116515.0</td>\n",
       "      <td>13.073637</td>\n",
       "      <td>411501</td>\n",
       "      <td>46.172723</td>\n",
       "    </tr>\n",
       "    <tr>\n",
       "      <th>63</th>\n",
       "      <td>GEBURTSJAHR</td>\n",
       "      <td>NaN</td>\n",
       "      <td>NaN</td>\n",
       "      <td>392318</td>\n",
       "      <td>44.020282</td>\n",
       "    </tr>\n",
       "    <tr>\n",
       "      <th>83</th>\n",
       "      <td>VERS_TYP</td>\n",
       "      <td>NaN</td>\n",
       "      <td>NaN</td>\n",
       "      <td>381303</td>\n",
       "      <td>42.784337</td>\n",
       "    </tr>\n",
       "  </tbody>\n",
       "</table>\n",
       "</div>"
      ],
      "text/plain": [
       "             feature  missing_count_initial  percent_missing  \\\n",
       "10          TITEL_KZ                73499.0         8.247000   \n",
       "66  NATIONALITAET_KZ                    NaN              NaN   \n",
       "32      KBA05_BAUMAX               133324.0        14.959701   \n",
       "15      KK_KUNDENTYP               584612.0        65.596749   \n",
       "47       PLZ8_BAUMAX               116515.0        13.073637   \n",
       "20       GEBAEUDETYP                93148.0        10.451729   \n",
       "55         ANREDE_KZ                    NaN              NaN   \n",
       "46        PLZ8_ANTG4               116515.0        13.073637   \n",
       "63       GEBURTSJAHR                    NaN              NaN   \n",
       "83          VERS_TYP                    NaN              NaN   \n",
       "\n",
       "    missing_count_updated  percent_missing_updated  \n",
       "10                 891008                99.976100  \n",
       "66                 792400                88.911729  \n",
       "32                 684941                76.854226  \n",
       "15                 626842                70.335192  \n",
       "47                 616065                69.125952  \n",
       "20                 553613                62.118487  \n",
       "55                 425916                47.790167  \n",
       "46                 411501                46.172723  \n",
       "63                 392318                44.020282  \n",
       "83                 381303                42.784337  "
      ]
     },
     "execution_count": 16,
     "metadata": {},
     "output_type": "execute_result"
    }
   ],
   "source": [
    "# merging both df_missing and updated_missing\n",
    "# for easy comparing \n",
    "\n",
    "missing_all = df_missing.merge(updated_missing,left_on='feature',right_on='feature',how='outer',suffixes=('_initial','_updated'))\n",
    "missing_all['percent_missing_updated'] = (missing_all['missing_count_updated'])/azdias.shape[0]*100\n",
    "missing_all.sort_values(by='percent_missing_updated',ascending=False).head(10)"
   ]
  },
  {
   "cell_type": "markdown",
   "metadata": {},
   "source": [
    "#### Step 1.1.2: Assess Missing Data in Each Column\n",
    "\n",
    "How much missing data is present in each column? There are a few columns that are outliers in terms of the proportion of values that are missing. You will want to use matplotlib's [`hist()`](https://matplotlib.org/api/_as_gen/matplotlib.pyplot.hist.html) function to visualize the distribution of missing value counts to find these columns. Identify and document these columns. While some of these columns might have justifications for keeping or re-encoding the data, for this project you should just remove them from the dataframe. (Feel free to make remarks about these outlier columns in the discussion, however!)\n",
    "\n",
    "For the remaining features, are there any patterns in which columns have, or share, missing data?"
   ]
  },
  {
   "cell_type": "code",
   "execution_count": 17,
   "metadata": {},
   "outputs": [
    {
     "data": {
      "text/plain": [
       "<matplotlib.axes._subplots.AxesSubplot at 0x7f8112283b70>"
      ]
     },
     "execution_count": 17,
     "metadata": {},
     "output_type": "execute_result"
    },
    {
     "data": {
      "image/png": "[encoded data removed]",
      "text/plain": [
       "<matplotlib.figure.Figure at 0x7f81122685f8>"
      ]
     },
     "metadata": {
      "needs_background": "light"
     },
     "output_type": "display_data"
    }
   ],
   "source": [
    "# Perform an assessment of how much missing data there is in each column of the\n",
    "# dataset.\n",
    "\n",
    "azdias.isnull().sum().hist()"
   ]
  },
  {
   "cell_type": "code",
   "execution_count": 18,
   "metadata": {},
   "outputs": [
    {
     "name": "stdout",
     "output_type": "stream",
     "text": [
      "Number of columns with missing values:\n",
      "• columns with more then 50%: 6\n",
      "• columns with more then 20%: 22\n",
      "• colums with less than 20%: 57\n"
     ]
    }
   ],
   "source": [
    "# Investigate patterns in the amount of missing data in each column.\n",
    "num_col_50 = missing_all.query('percent_missing_updated >50')\n",
    "num_col_20 = missing_all.query('percent_missing_updated > 20 & percent_missing_updated <50 ')\n",
    "num_col_less20 = missing_all.query('percent_missing_updated <20')\n",
    "\n",
    "print('Number of columns with missing values:')\n",
    "print('\\u2022 columns with more then 50%:',num_col_50.shape[0])\n",
    "print('\\u2022 columns with more then 20%:',num_col_20.shape[0])\n",
    "print('\\u2022 colums with less than 20%:', num_col_less20.shape[0])"
   ]
  },
  {
   "cell_type": "code",
   "execution_count": 19,
   "metadata": {},
   "outputs": [
    {
     "data": {
      "text/plain": [
       "['TITEL_KZ',\n",
       " 'KK_KUNDENTYP',\n",
       " 'GEBAEUDETYP',\n",
       " 'KBA05_BAUMAX',\n",
       " 'PLZ8_BAUMAX',\n",
       " 'NATIONALITAET_KZ']"
      ]
     },
     "execution_count": 19,
     "metadata": {},
     "output_type": "execute_result"
    }
   ],
   "source": [
    "num_col_50['feature'].tolist()"
   ]
  },
  {
   "cell_type": "code",
   "execution_count": 20,
   "metadata": {},
   "outputs": [
    {
     "data": {
      "image/png": "[encoded data removed]",
      "text/plain": [
       "<matplotlib.figure.Figure at 0x7f810f9ff128>"
      ]
     },
     "metadata": {
      "needs_background": "light"
     },
     "output_type": "display_data"
    },
    {
     "data": {
      "image/png": "[encoded data removed]",
      "text/plain": [
       "<matplotlib.figure.Figure at 0x7f810f98d550>"
      ]
     },
     "metadata": {
      "needs_background": "light"
     },
     "output_type": "display_data"
    },
    {
     "data": {
      "image/png": "[encoded data removed]",
      "text/plain": [
       "<matplotlib.figure.Figure at 0x7f810f8fd7f0>"
      ]
     },
     "metadata": {
      "needs_background": "light"
     },
     "output_type": "display_data"
    },
    {
     "data": {
      "image/png": "[encoded data removed]",
      "text/plain": [
       "<matplotlib.figure.Figure at 0x7f810f8609b0>"
      ]
     },
     "metadata": {
      "needs_background": "light"
     },
     "output_type": "display_data"
    },
    {
     "data": {
      "image/png": "[encoded data removed]",
      "text/plain": [
       "<matplotlib.figure.Figure at 0x7f810f7d65f8>"
      ]
     },
     "metadata": {
      "needs_background": "light"
     },
     "output_type": "display_data"
    },
    {
     "data": {
      "image/png": "[encoded data removed]",
      "text/plain": [
       "<matplotlib.figure.Figure at 0x7f810f7c6c18>"
      ]
     },
     "metadata": {
      "needs_background": "light"
     },
     "output_type": "display_data"
    }
   ],
   "source": [
    "for col in  num_col_50['feature'].tolist():\n",
    "    plt.hist(azdias[[col]])\n",
    "    plt.title(col)\n",
    "    plt.show()"
   ]
  },
  {
   "cell_type": "code",
   "execution_count": 21,
   "metadata": {},
   "outputs": [
    {
     "name": "stdout",
     "output_type": "stream",
     "text": [
      "number of columns before drop outliers: 85\n",
      "number of columns after drop outliers: 79\n"
     ]
    }
   ],
   "source": [
    "# Remove the outlier columns from the dataset. (You'll perform other data\n",
    "# engineering tasks such as re-encoding and imputation later.)\n",
    "outlier_columns = num_col_50['feature'].tolist()\n",
    "print('number of columns before drop outliers:',azdias.shape[1])\n",
    "azdias = azdias.drop(outlier_columns,axis=1)\n",
    "print('number of columns after drop outliers:',azdias.shape[1])"
   ]
  },
  {
   "cell_type": "markdown",
   "metadata": {},
   "source": [
    "#### Discussion 1.1.2: Assess Missing Data in Each Column\n",
    "\n",
    "In total, we have 85 different columns in our dataset. **84** columns of which have different amount of missing values. \n",
    "Those 84 columns with missing values can be divided into 3 groups:\n",
    "\n",
    "- `6 Columns` with more than **50%** of the values are missing \n",
    "- `22 columns` with missing values between **49%** and **20%**.\n",
    "- `57 columns` with less than **20%** of the values are missing.\n",
    "\n",
    "We have decided that any column with more than 50% of the values are missing are not useful for further analyses as it might be difficult to investigate what those missing values might be and ways to impute them might be cumbersome."
   ]
  },
  {
   "cell_type": "markdown",
   "metadata": {},
   "source": [
    "#### Step 1.1.3: Assess Missing Data in Each Row\n",
    "\n",
    "Now, you'll perform a similar assessment for the rows of the dataset. How much data is missing in each row? As with the columns, you should see some groups of points that have a very different numbers of missing values. Divide the data into two subsets: one for data points that are above some threshold for missing values, and a second subset for points below that threshold.\n",
    "\n",
    "In order to know what to do with the outlier rows, we should see if the distribution of data values on columns that are not missing data (or are missing very little data) are similar or different between the two groups. Select at least five of these columns and compare the distribution of values.\n",
    "- You can use seaborn's [`countplot()`](https://seaborn.pydata.org/generated/seaborn.countplot.html) function to create a bar chart of code frequencies and matplotlib's [`subplot()`](https://matplotlib.org/api/_as_gen/matplotlib.pyplot.subplot.html) function to put bar charts for the two subplots side by side.\n",
    "- To reduce repeated code, you might want to write a function that can perform this comparison, taking as one of its arguments a column to be compared.\n",
    "\n",
    "Depending on what you observe in your comparison, this will have implications on how you approach your conclusions later in the analysis. If the distributions of non-missing features look similar between the data with many missing values and the data with few or no missing values, then we could argue that simply dropping those points from the analysis won't present a major issue. On the other hand, if the data with many missing values looks very different from the data with few or no missing values, then we should make a note on those data as special. We'll revisit these data later on. **Either way, you should continue your analysis for now using just the subset of the data with few or no missing values.**"
   ]
  },
  {
   "cell_type": "code",
   "execution_count": 22,
   "metadata": {},
   "outputs": [
    {
     "data": {
      "image/png": "[encoded data removed]",
      "text/plain": [
       "<matplotlib.figure.Figure at 0x7f811219a6d8>"
      ]
     },
     "metadata": {
      "needs_background": "light"
     },
     "output_type": "display_data"
    }
   ],
   "source": [
    "# # plot missing values across columns\n",
    "sns.heatmap(azdias.isnull(), cbar=False)\n",
    "plt.show()"
   ]
  },
  {
   "cell_type": "markdown",
   "metadata": {},
   "source": [
    "**Note: From the plot above, we can see some rows with alot of missing values across last 13 columns in the plot. It will be very helpful to refer back to dataset dictionary.**\n",
    "\n",
    "A good step is to identify rows with heavy number of missing data and see maximum missing values. "
   ]
  },
  {
   "cell_type": "code",
   "execution_count": 23,
   "metadata": {},
   "outputs": [
    {
     "data": {
      "text/plain": [
       "537799    52\n",
       "539005    52\n",
       "15284     52\n",
       "547468    52\n",
       "141404    51\n",
       "dtype: int64"
      ]
     },
     "execution_count": 23,
     "metadata": {},
     "output_type": "execute_result"
    }
   ],
   "source": [
    "# How much data is missing in each row of the dataset?\n",
    "missing_rows = azdias.isnull().sum(axis=1)\n",
    "missing_rows.sort_values(ascending=False).head()"
   ]
  },
  {
   "cell_type": "code",
   "execution_count": 24,
   "metadata": {},
   "outputs": [
    {
     "data": {
      "text/plain": [
       "array([41,  8, 14,  6,  4,  7, 12, 10, 45, 15, 13, 17,  9, 44, 11, 27,  5,\n",
       "       39, 40,  3, 42, 37, 35, 18, 20, 25, 21, 22, 26, 19, 46,  2, 38, 24,\n",
       "       16, 34, 36, 23, 43, 29, 30, 49, 33, 31, 28,  1, 47,  0, 52, 51, 32,\n",
       "       50, 48])"
      ]
     },
     "execution_count": 24,
     "metadata": {},
     "output_type": "execute_result"
    }
   ],
   "source": [
    "missing_rows.unique()"
   ]
  },
  {
   "cell_type": "code",
   "execution_count": 25,
   "metadata": {},
   "outputs": [
    {
     "data": {
      "image/png": "[encoded data removed]",
      "text/plain": [
       "<matplotlib.figure.Figure at 0x7f80efeff5f8>"
      ]
     },
     "metadata": {
      "needs_background": "light"
     },
     "output_type": "display_data"
    }
   ],
   "source": [
    "# distribution plot for missing values across columns\n",
    "missing_rows.hist()\n",
    "plt.xlabel('number of columns')\n",
    "plt.ylabel('row counts')\n",
    "plt.title('distribution of missing values across columns')\n",
    "plt.show()"
   ]
  },
  {
   "cell_type": "code",
   "execution_count": 26,
   "metadata": {},
   "outputs": [],
   "source": [
    "# Write code to divide the data into two subsets based on the number of missing\n",
    "# values in each row.\n",
    "missing_above_30 = azdias[azdias.isnull().sum(axis=1) > 30]\n",
    "missing_below_30 = azdias[azdias.isnull().sum(axis=1) < 30]\n",
    "few_missing_col = azdias.isnull().sum(axis=0)\n",
    "few_missing_col = few_missing_col[few_missing_col < 5000].index"
   ]
  },
  {
   "cell_type": "code",
   "execution_count": 27,
   "metadata": {},
   "outputs": [],
   "source": [
    "# Compare the distribution of values for at least five columns where there are\n",
    "# no or few missing values, between the two subsets.\n",
    "\n",
    "def compare(index):\n",
    "    fig = plt.figure(figsize=(15,4))\n",
    "    ax1 = fig.add_subplot(1,2,1)\n",
    "    ax1.title.set_text('rows with more missing')\n",
    "    sns.countplot(missing_above_30[few_missing_col[index]])\n",
    "    \n",
    "    ax2 = fig.add_subplot(1,2,2)\n",
    "    ax2.title.set_text('rows with few missing')\n",
    "    sns.countplot(missing_below_30[few_missing_col[index]])\n",
    "    \n",
    "    fig.suptitle(few_missing_col[index])\n",
    "    \n",
    "    plt.show()"
   ]
  },
  {
   "cell_type": "code",
   "execution_count": 28,
   "metadata": {
    "scrolled": false
   },
   "outputs": [
    {
     "data": {
      "image/png": "[encoded data removed]",
      "text/plain": [
       "<matplotlib.figure.Figure at 0x7f810f6edef0>"
      ]
     },
     "metadata": {
      "needs_background": "light"
     },
     "output_type": "display_data"
    },
    {
     "data": {
      "image/png": "[encoded data removed]",
      "text/plain": [
       "<matplotlib.figure.Figure at 0x7f80efeec198>"
      ]
     },
     "metadata": {
      "needs_background": "light"
     },
     "output_type": "display_data"
    },
    {
     "data": {
      "image/png": "[encoded data removed]",
      "text/plain": [
       "<matplotlib.figure.Figure at 0x7f810f7b2240>"
      ]
     },
     "metadata": {
      "needs_background": "light"
     },
     "output_type": "display_data"
    },
    {
     "data": {
      "image/png": "[encoded data removed]",
      "text/plain": [
       "<matplotlib.figure.Figure at 0x7f810f8ef7f0>"
      ]
     },
     "metadata": {
      "needs_background": "light"
     },
     "output_type": "display_data"
    },
    {
     "data": {
      "image/png": "[encoded data removed]",
      "text/plain": [
       "<matplotlib.figure.Figure at 0x7f810f976860>"
      ]
     },
     "metadata": {
      "needs_background": "light"
     },
     "output_type": "display_data"
    },
    {
     "data": {
      "image/png": "[encoded data removed]",
      "text/plain": [
       "<matplotlib.figure.Figure at 0x7f80efe2d860>"
      ]
     },
     "metadata": {
      "needs_background": "light"
     },
     "output_type": "display_data"
    },
    {
     "data": {
      "image/png": "[encoded data removed]",
      "text/plain": [
       "<matplotlib.figure.Figure at 0x7f80efd2b208>"
      ]
     },
     "metadata": {
      "needs_background": "light"
     },
     "output_type": "display_data"
    }
   ],
   "source": [
    "for i in range(len(few_missing_col)):\n",
    "    compare(i)"
   ]
  },
  {
   "cell_type": "code",
   "execution_count": 29,
   "metadata": {},
   "outputs": [
    {
     "name": "stdout",
     "output_type": "stream",
     "text": [
      "Number of rows:\n",
      "• 891221 before droping rows\n",
      "• 797719 after dropping rows\n",
      "\n",
      " number of droped rows: 93502\n"
     ]
    }
   ],
   "source": [
    "azdias_missing = missing_below_30\n",
    "print('Number of rows:')\n",
    "print('\\u2022 {} before droping rows'.format(azdias.shape[0]))\n",
    "print('\\u2022 {} after dropping rows'.format(azdias_missing.shape[0]))\n",
    "print('\\n number of droped rows:',azdias.shape[0]-azdias_missing.shape[0])"
   ]
  },
  {
   "cell_type": "markdown",
   "metadata": {},
   "source": [
    "#### Discussion 1.1.3: Assess Missing Data in Each Row\n",
    "\n",
    "In the beginning of this project, we started with with **891221** number of rows. Examining the rows for missing values we found:\n",
    "- Around `100,000` rows with missing values between `(0-5)%`.\n",
    "- Around `500,000` rows with missing values between `(5-10)%`.\n",
    "- About `200,000` rows with missing values between `(10-15)%`.\n",
    "- About `60,000` rows with missing values between `(15-30)%`.\n",
    "- The rest which are less than `100,000` rows are between `(30-52)%`.\n",
    "\n",
    "Because maximum missing values are across 52 columns and majority of rows have less than 30 missing values, we set **30** missing values as our threshold and divided the dataset to 2 groups. In order to decide if droping those rows will not effect the overall analysis, we compared both groups distributing missing values on columns with few or no missing values and observe of the distribution is consistant. the distribution was the same on `GREEN_AVANTGARDE`,`LP_STATUS_GROB` and `LP_STATUS_GROB`.\n",
    "\n",
    "We will continue the analysis with the rows of few missing values. "
   ]
  },
  {
   "cell_type": "markdown",
   "metadata": {},
   "source": [
    "### Step 1.2: Select and Re-Encode Features\n",
    "\n",
    "Checking for missing data isn't the only way in which you can prepare a dataset for analysis. Since the unsupervised learning techniques to be used will only work on data that is encoded numerically, you need to make a few encoding changes or additional assumptions to be able to make progress. In addition, while almost all of the values in the dataset are encoded using numbers, not all of them represent numeric values. Check the third column of the feature summary (`feat_info`) for a summary of types of measurement.\n",
    "- For numeric and interval data, these features can be kept without changes.\n",
    "- Most of the variables in the dataset are ordinal in nature. While ordinal values may technically be non-linear in spacing, make the simplifying assumption that the ordinal variables can be treated as being interval in nature (that is, kept without any changes).\n",
    "- Special handling may be necessary for the remaining two variable types: categorical, and 'mixed'.\n",
    "\n",
    "In the first two parts of this sub-step, you will perform an investigation of the categorical and mixed-type features and make a decision on each of them, whether you will keep, drop, or re-encode each. Then, in the last part, you will create a new data frame with only the selected and engineered columns.\n",
    "\n",
    "Data wrangling is often the trickiest part of the data analysis process, and there's a lot of it to be done here. But stick with it: once you're done with this step, you'll be ready to get to the machine learning parts of the project!"
   ]
  },
  {
   "cell_type": "code",
   "execution_count": 30,
   "metadata": {},
   "outputs": [
    {
     "data": {
      "text/plain": [
       "array(['categorical', 'ordinal', 'numeric', 'mixed', 'interval'], dtype=object)"
      ]
     },
     "execution_count": 30,
     "metadata": {},
     "output_type": "execute_result"
    }
   ],
   "source": [
    "# How many features are there of each data type?\n",
    "feat_info['type'].unique()"
   ]
  },
  {
   "cell_type": "markdown",
   "metadata": {},
   "source": [
    "**Note:** \n",
    "We have 5 different data types in our dataset."
   ]
  },
  {
   "cell_type": "markdown",
   "metadata": {},
   "source": [
    "#### Step 1.2.1: Re-Encode Categorical Features\n",
    "\n",
    "For categorical data, you would ordinarily need to encode the levels as dummy variables. Depending on the number of categories, perform one of the following:\n",
    "- For binary (two-level) categoricals that take numeric values, you can keep them without needing to do anything.\n",
    "- There is one binary variable that takes on non-numeric values. For this one, you need to re-encode the values as numbers or create a dummy variable.\n",
    "- For multi-level categoricals (three or more values), you can choose to encode the values using multiple dummy variables (e.g. via [OneHotEncoder](http://scikit-learn.org/stable/modules/generated/sklearn.preprocessing.OneHotEncoder.html)), or (to keep things straightforward) just drop them from the analysis. As always, document your choices in the Discussion section."
   ]
  },
  {
   "cell_type": "code",
   "execution_count": 31,
   "metadata": {},
   "outputs": [
    {
     "name": "stdout",
     "output_type": "stream",
     "text": [
      "multi-level\n",
      "AGER_TYP\n",
      "[ -1.   2.   3.  nan]\n",
      "\n",
      "binary\n",
      "ANREDE_KZ\n",
      "[  2.  nan]\n",
      "\n",
      "multi-level\n",
      "CJT_GESAMTTYP\n",
      "[  5.   3.   2.   4.   1.   6.  nan]\n",
      "\n",
      "multi-level\n",
      "FINANZTYP\n",
      "[ nan   6.   5.   2.   4.   3.]\n",
      "\n",
      "multi-level\n",
      "GFK_URLAUBERTYP\n",
      "[ 10.   1.   5.  12.   9.   3.   8.  11.   4.   2.   7.   6.  nan]\n",
      "\n",
      "binary\n",
      "GREEN_AVANTGARDE\n",
      "[0 1]\n",
      "\n",
      "multi-level\n",
      "LP_FAMILIE_FEIN\n",
      "[  5.   1.  nan  10.   2.   7.  11.   8.   4.   6.   9.   3.]\n",
      "\n",
      "multi-level\n",
      "LP_FAMILIE_GROB\n",
      "[  3.   1.  nan   5.   2.   4.]\n",
      "\n",
      "multi-level\n",
      "LP_STATUS_FEIN\n",
      "[  2.   3.   9.   4.   1.  10.   5.   8.   6.   7.  nan]\n",
      "\n",
      "multi-level\n",
      "LP_STATUS_GROB\n",
      "[  1.   2.   4.   5.   3.  nan]\n",
      "\n",
      "multi-level\n",
      "SHOPPER_TYP\n",
      "[  3.   2.  nan   0.  -1.]\n",
      "\n",
      "binary\n",
      "SOHO_KZ\n",
      "[ nan   0.]\n",
      "\n",
      "multi-level\n",
      "VERS_TYP\n",
      "[  2.  nan  -1.]\n",
      "\n",
      "multi-level\n",
      "ZABEOTYP\n",
      "[  5.   3.   4.  nan   6.   2.]\n",
      "\n",
      "binary\n",
      "OST_WEST_KZ\n",
      "['W' 'O']\n",
      "\n",
      "multi-level\n",
      "CAMEO_DEUG_2015\n",
      "['8' '4' '2' '6' '1' '9' '5' '7' nan '3' 'X']\n",
      "\n",
      "multi-level\n",
      "CAMEO_DEU_2015\n",
      "['8A' '4C' '2A' '6B' '8C' '4A' '2D' '1A' '1E' '9D' '5C' '8B' '7A' '5D' '9E'\n",
      " nan '9B' '1B' '3D' '4E' '4B' '3C' '5A' '7B' '9A' '6D' '6E' '2C' '7C' '9C'\n",
      " '7D' '5E' '1D' '8D' '6C' '6A' '5B' '4D' '3A' '2B' '7E' '3B' '6F' '5F' '1C'\n",
      " 'XX']\n",
      "\n"
     ]
    }
   ],
   "source": [
    "# Assess categorical variables: which are binary, which are multi-level, and\n",
    "# which one needs to be re-encoded?\n",
    "cat_cols = feat_info[feat_info['type']=='categorical']['attribute'].values\n",
    "\n",
    "multi_level = []\n",
    "binary_col = []\n",
    "for col in cat_cols:\n",
    "    if col in azdias_missing.columns:\n",
    "        if len(azdias_missing[col].unique()) > 2:\n",
    "            print('multi-level')\n",
    "            multi_level.append(col)\n",
    "        else:\n",
    "            print('binary')\n",
    "            binary_col.append(col)\n",
    "        print(col)\n",
    "        print(azdias_missing[col].unique())\n",
    "        print('')"
   ]
  },
  {
   "cell_type": "code",
   "execution_count": 32,
   "metadata": {},
   "outputs": [
    {
     "name": "stdout",
     "output_type": "stream",
     "text": [
      "['AGER_TYP', 'CJT_GESAMTTYP', 'FINANZTYP', 'GFK_URLAUBERTYP', 'LP_FAMILIE_FEIN', 'LP_FAMILIE_GROB', 'LP_STATUS_FEIN', 'LP_STATUS_GROB', 'SHOPPER_TYP', 'VERS_TYP', 'ZABEOTYP', 'CAMEO_DEUG_2015', 'CAMEO_DEU_2015']\n",
      "\n",
      "['ANREDE_KZ', 'GREEN_AVANTGARDE', 'SOHO_KZ', 'OST_WEST_KZ']\n"
     ]
    }
   ],
   "source": [
    "print(multi_level)\n",
    "print('')\n",
    "print(binary_col)"
   ]
  },
  {
   "cell_type": "markdown",
   "metadata": {},
   "source": [
    "- For column `OST_WEST_KZ`, we will re-encode non-numeric values to numeric values.\n",
    "- For multi-level columns `('AGER_TYP', 'CJT_GESAMTTYP', 'FINANZTYP', 'GFK_URLAUBERTYP', 'LP_FAMILIE_FEIN', 'LP_FAMILIE_GROB', 'LP_STATUS_FEIN', 'LP_STATUS_GROB', 'SHOPPER_TYP', 'VERS_TYP', 'ZABEOTYP', 'CAMEO_DEUG_2015', 'CAMEO_DEU_2015')` we will re-encode using `pd.get_dummies`."
   ]
  },
  {
   "cell_type": "code",
   "execution_count": 33,
   "metadata": {},
   "outputs": [
    {
     "name": "stderr",
     "output_type": "stream",
     "text": [
      "/opt/conda/lib/python3.6/site-packages/pandas/core/generic.py:5890: SettingWithCopyWarning: \n",
      "A value is trying to be set on a copy of a slice from a DataFrame\n",
      "\n",
      "See the caveats in the documentation: http://pandas.pydata.org/pandas-docs/stable/indexing.html#indexing-view-versus-copy\n",
      "  self._update_inplace(new_data)\n"
     ]
    }
   ],
   "source": [
    "# Re-encode categorical variable(s) to be kept in the analysis.\n",
    "azdias_missing['ANREDE_KZ'].replace(2.0,1,inplace=True)\n",
    "azdias_missing['OST_WEST_KZ'].replace('W',0,inplace=True)\n",
    "azdias_missing['OST_WEST_KZ'].replace('O',1,inplace=True)"
   ]
  },
  {
   "cell_type": "code",
   "execution_count": 34,
   "metadata": {},
   "outputs": [
    {
     "name": "stdout",
     "output_type": "stream",
     "text": [
      "number of columns after transformation: 797719\n"
     ]
    }
   ],
   "source": [
    "azdias_missing = pd.get_dummies(azdias_missing,columns=multi_level)\n",
    "\n",
    "print('number of columns after transformation:',azdias_missing.shape[0])"
   ]
  },
  {
   "cell_type": "markdown",
   "metadata": {},
   "source": [
    "#### Discussion 1.2.1: Re-Encode Categorical Features\n",
    "\n",
    "Looking on feat_info dataset, we have found five different data types\n",
    "('categorical', 'ordinal', 'numeric', 'mixed', 'interval').\n",
    "\n",
    "Then we moved to `categorical` columns which divides to two groups:\n",
    "- `Binary` categorical columns.\n",
    "- `Multi-level` categorical columns. \n",
    "\n",
    "For both groups we had to re-encode the values such that string values are converted to numerical as in column `OST_WEST_KZ`.\n",
    "For multi-level columns, we used `pd.get_dummies` to encode string values to numerical."
   ]
  },
  {
   "cell_type": "markdown",
   "metadata": {},
   "source": [
    "#### Step 1.2.2: Engineer Mixed-Type Features\n",
    "\n",
    "There are a handful of features that are marked as \"mixed\" in the feature summary that require special treatment in order to be included in the analysis. There are two in particular that deserve attention; the handling of the rest are up to your own choices:\n",
    "- \"PRAEGENDE_JUGENDJAHRE\" combines information on three dimensions: generation by decade, movement (mainstream vs. avantgarde), and nation (east vs. west). While there aren't enough levels to disentangle east from west, you should create two new variables to capture the other two dimensions: an interval-type variable for decade, and a binary variable for movement.\n",
    "- \"CAMEO_INTL_2015\" combines information on two axes: wealth and life stage. Break up the two-digit codes by their 'tens'-place and 'ones'-place digits into two new ordinal variables (which, for the purposes of this project, is equivalent to just treating them as their raw numeric values).\n",
    "- If you decide to keep or engineer new features around the other mixed-type features, make sure you note your steps in the Discussion section.\n",
    "\n",
    "Be sure to check `Data_Dictionary.md` for the details needed to finish these tasks."
   ]
  },
  {
   "cell_type": "code",
   "execution_count": 35,
   "metadata": {},
   "outputs": [
    {
     "data": {
      "text/plain": [
       "14.0    182935\n",
       "8.0     141567\n",
       "10.0     85793\n",
       "5.0      84670\n",
       "3.0      53827\n",
       "15.0     42516\n",
       "11.0     35740\n",
       "9.0      33567\n",
       "6.0      25651\n",
       "12.0     24445\n",
       "4.0      20446\n",
       "2.0       7478\n",
       "13.0      5762\n",
       "7.0       4009\n",
       "Name: PRAEGENDE_JUGENDJAHRE, dtype: int64"
      ]
     },
     "execution_count": 35,
     "metadata": {},
     "output_type": "execute_result"
    }
   ],
   "source": [
    "azdias_missing['PRAEGENDE_JUGENDJAHRE'].value_counts()"
   ]
  },
  {
   "cell_type": "code",
   "execution_count": 36,
   "metadata": {},
   "outputs": [],
   "source": [
    "# Investigate \"PRAEGENDE_JUGENDJAHRE\" and engineer two new variables.\n",
    "\n",
    "# movement feature\n",
    "azdias_missing['PRAEGENDE_JUGENDJAHRE_movement'] = azdias_missing['PRAEGENDE_JUGENDJAHRE'].copy()\n",
    "\n",
    "azdias_missing.loc[azdias_missing['PRAEGENDE_JUGENDJAHRE_movement'].isin([1,3,5,8,14,10,12]),\n",
    "                   'PRAEGENDE_JUGENDJAHRE_movement'] = 0\n",
    "\n",
    "azdias_missing.loc[azdias_missing['PRAEGENDE_JUGENDJAHRE_movement'].isin([2,4,9,15,6,11,7,13]),\n",
    "                   'PRAEGENDE_JUGENDJAHRE_movement'] = 1"
   ]
  },
  {
   "cell_type": "code",
   "execution_count": 37,
   "metadata": {},
   "outputs": [],
   "source": [
    "# generation feature\n",
    "azdias_missing['PRAEGENDE_JUGENDJAHRE_generation'] = azdias_missing['PRAEGENDE_JUGENDJAHRE'].copy()\n",
    "\n",
    "azdias_missing.loc[azdias_missing['PRAEGENDE_JUGENDJAHRE_generation'].isin([1,2]),\n",
    "                  'PRAEGENDE_JUGENDJAHRE_generation'] = 0\n",
    "\n",
    "azdias_missing.loc[azdias_missing['PRAEGENDE_JUGENDJAHRE_generation'].isin([3,4]),\n",
    "                  'PRAEGENDE_JUGENDJAHRE_generation'] = 1\n",
    "\n",
    "azdias_missing.loc[azdias_missing['PRAEGENDE_JUGENDJAHRE_generation'].isin([5,6,7]),\n",
    "                  'PRAEGENDE_JUGENDJAHRE_generation'] = 2\n",
    "\n",
    "azdias_missing.loc[azdias_missing['PRAEGENDE_JUGENDJAHRE_generation'].isin([8,9]),\n",
    "                  'PRAEGENDE_JUGENDJAHRE_generation'] = 3\n",
    "\n",
    "azdias_missing.loc[azdias_missing['PRAEGENDE_JUGENDJAHRE_generation'].isin([10,11,12,13]),\n",
    "                  'PRAEGENDE_JUGENDJAHRE_generation'] = 4\n",
    "\n",
    "azdias_missing.loc[azdias_missing['PRAEGENDE_JUGENDJAHRE_generation'].isin([14,15]),\n",
    "                  'PRAEGENDE_JUGENDJAHRE_generation'] = 5"
   ]
  },
  {
   "cell_type": "code",
   "execution_count": 38,
   "metadata": {},
   "outputs": [],
   "source": [
    "# nation feature \n",
    "azdias_missing['PRAEGENDE_JUGENDJAHRE_nation'] = azdias_missing['PRAEGENDE_JUGENDJAHRE'].copy()\n",
    "\n",
    "azdias_missing.loc[azdias_missing['PRAEGENDE_JUGENDJAHRE_nation'].isin([1,2,3,4,5,8,9,14,15]),\n",
    "          'PRAEGENDE_JUGENDJAHRE_nation'] = 0\n",
    "\n",
    "azdias_missing.loc[azdias_missing['PRAEGENDE_JUGENDJAHRE_nation'].isin([6,10,11]),\n",
    "          'PRAEGENDE_JUGENDJAHRE_nation'] = 1\n",
    "\n",
    "azdias_missing.loc[azdias_missing['PRAEGENDE_JUGENDJAHRE_nation'].isin([7,12,13]),\n",
    "          'PRAEGENDE_JUGENDJAHRE_nation'] = 2"
   ]
  },
  {
   "cell_type": "code",
   "execution_count": 39,
   "metadata": {},
   "outputs": [
    {
     "name": "stdout",
     "output_type": "stream",
     "text": [
      "object\n"
     ]
    },
    {
     "data": {
      "text/plain": [
       "array(['51', '24', '12', '43', '54', '22', '14', '13', '15', '33', '41',\n",
       "       '34', '55', nan, '25', '23', '31', '52', '35', '45', '44', '32',\n",
       "       'XX'], dtype=object)"
      ]
     },
     "execution_count": 39,
     "metadata": {},
     "output_type": "execute_result"
    }
   ],
   "source": [
    "# Investigate \"CAMEO_INTL_2015\" and engineer two new variables.\n",
    "print(azdias_missing['CAMEO_INTL_2015'].dtype)\n",
    "azdias_missing['CAMEO_INTL_2015'].unique()"
   ]
  },
  {
   "cell_type": "code",
   "execution_count": 40,
   "metadata": {},
   "outputs": [
    {
     "name": "stdout",
     "output_type": "stream",
     "text": [
      "5.0    223568\n",
      "2.0    190613\n",
      "4.0    189944\n",
      "1.0    119409\n",
      "3.0     68165\n",
      "Name: CAMEO_INTL_2015_wealth, dtype: int64\n",
      "1.0    245031\n",
      "4.0    232724\n",
      "3.0    119640\n",
      "5.0    117024\n",
      "2.0     77280\n",
      "Name: CAMEO_INTL_2015_life_stage, dtype: int64\n"
     ]
    }
   ],
   "source": [
    "azdias_missing.loc[azdias_missing['CAMEO_INTL_2015']=='XX','CAMEO_INTL_2015'] = np.nan\n",
    "\n",
    "azdias_missing['CAMEO_INTL_2015_wealth'] = pd.to_numeric(azdias_missing['CAMEO_INTL_2015'].str[0])\n",
    "azdias_missing['CAMEO_INTL_2015_life_stage'] = pd.to_numeric(azdias_missing['CAMEO_INTL_2015'].str[1])\n",
    "\n",
    "print(azdias_missing['CAMEO_INTL_2015_wealth'].value_counts())\n",
    "print(azdias_missing['CAMEO_INTL_2015_life_stage'].value_counts())"
   ]
  },
  {
   "cell_type": "markdown",
   "metadata": {},
   "source": [
    "#### Discussion 1.2.2: Engineer Mixed-Type Features\n",
    "\n",
    "In this part, we worked with columns that contains mixed-type values with different levels. \n",
    "\n",
    "For column `PRAEGENDE_JUGENDJAHRE`, we had three different informations:\n",
    "- **Movement**: \n",
    "     - 0 for MainStream\n",
    "     - 1 for avantgarde\n",
    "- **Generation**:\n",
    "     - 0 for 40s\n",
    "     - 1 for 50s\n",
    "     - 2 for 60s\n",
    "     - 3 for 70s\n",
    "     - 4 for 80s\n",
    "     - 5 for 90s\n",
    "- **Nation**\n",
    "     - 0 for E+W\n",
    "     - 1 for W\n",
    "     - 2 for E\n",
    " \n",
    " For column `CAMEO_INTL_2015`, we had two levels of information:\n",
    " - **Wealth**\n",
    " - **Life_stage**"
   ]
  },
  {
   "cell_type": "markdown",
   "metadata": {},
   "source": [
    "#### Step 1.2.3: Complete Feature Selection\n",
    "\n",
    "In order to finish this step up, you need to make sure that your data frame now only has the columns that you want to keep. To summarize, the dataframe should consist of the following:\n",
    "- All numeric, interval, and ordinal type columns from the original dataset.\n",
    "- Binary categorical features (all numerically-encoded).\n",
    "- Engineered features from other multi-level categorical features and mixed features.\n",
    "\n",
    "Make sure that for any new columns that you have engineered, that you've excluded the original columns from the final dataset. Otherwise, their values will interfere with the analysis later on the project. For example, you should not keep \"PRAEGENDE_JUGENDJAHRE\", since its values won't be useful for the algorithm: only the values derived from it in the engineered features you created should be retained. As a reminder, your data should only be from **the subset with few or no missing values**."
   ]
  },
  {
   "cell_type": "code",
   "execution_count": 41,
   "metadata": {},
   "outputs": [
    {
     "data": {
      "text/plain": [
       "uint8      123\n",
       "float64     67\n",
       "int64        2\n",
       "object       1\n",
       "dtype: int64"
      ]
     },
     "execution_count": 41,
     "metadata": {},
     "output_type": "execute_result"
    }
   ],
   "source": [
    "# If there are other re-engineering tasks you need to perform, make sure you\n",
    "# take care of them here. (Dealing with missing data will come in step 2.1.)\n",
    "\n",
    "azdias_missing.drop('PRAEGENDE_JUGENDJAHRE',axis=1,inplace=True)\n",
    "azdias_missing.dtypes.value_counts()"
   ]
  },
  {
   "cell_type": "code",
   "execution_count": 42,
   "metadata": {},
   "outputs": [
    {
     "data": {
      "text/plain": [
       "uint8      123\n",
       "float64     67\n",
       "int64        2\n",
       "dtype: int64"
      ]
     },
     "execution_count": 42,
     "metadata": {},
     "output_type": "execute_result"
    }
   ],
   "source": [
    "# Do whatever you need to in order to ensure that the dataframe only contains\n",
    "# the columns that should be passed to the algorithm functions.\n",
    "\n",
    "azdias_missing.drop('CAMEO_INTL_2015',axis=1,inplace=True)\n",
    "azdias_missing.dtypes.value_counts()"
   ]
  },
  {
   "cell_type": "markdown",
   "metadata": {},
   "source": [
    "### Step 1.3: Create a Cleaning Function\n",
    "\n",
    "Even though you've finished cleaning up the general population demographics data, it's important to look ahead to the future and realize that you'll need to perform the same cleaning steps on the customer demographics data. In this substep, complete the function below to execute the main feature selection, encoding, and re-engineering steps you performed above. Then, when it comes to looking at the customer data in Step 3, you can just run this function on that DataFrame to get the trimmed dataset in a single step."
   ]
  },
  {
   "cell_type": "code",
   "execution_count": 43,
   "metadata": {},
   "outputs": [],
   "source": [
    "def clean_data(df):\n",
    "    \"\"\"\n",
    "    Perform feature trimming, re-encoding, and engineering for demographics\n",
    "    data\n",
    "    \n",
    "    INPUT: Demographics DataFrame\n",
    "    OUTPUT: Trimmed and cleaned demographics DataFrame\n",
    "    \"\"\"\n",
    "    \n",
    "    # Put in code here to execute all main cleaning steps:\n",
    "    # convert missing value codes into NaNs, ...\n",
    "    missing_val_list = feat_info['missing_or_unknown'].str.replace('[','').str.replace(']','').str.lstrip('-').str.split(',')\n",
    "    columns = feat_info['attribute']\n",
    "\n",
    "    # mapping values from feat_info to azdias datafram\n",
    "    #converting thos values to Nan vlaues\n",
    "    for val,col in zip(missing_val_list,columns):\n",
    "        if val[0] != '':\n",
    "            for value in val:\n",
    "                if value.isnumeric():\n",
    "                    value = int(value)\n",
    "                    df.loc[df[col] == value, col] = np.nan\n",
    "    \n",
    "    # remove selected columns and rows, ...\n",
    "    df = df.drop(outlier_columns,axis=1)\n",
    "    \n",
    "    missing_below_30 = df[df.isnull().sum(axis=1) < 30]\n",
    "    df = missing_below_30\n",
    "    df_missing_more = df[df.isnull().sum(axis=1) > 30]\n",
    "    \n",
    "    # select, re-encode, and engineer column values.\n",
    "    df['ANREDE_KZ'] = df['ANREDE_KZ'].replace(2.0,1)\n",
    "    df['OST_WEST_KZ'] = df['OST_WEST_KZ'].replace('W',0)\n",
    "    df['OST_WEST_KZ'] = df['OST_WEST_KZ'].replace('O',1)\n",
    "    df = pd.get_dummies(df,columns=multi_level)\n",
    "    \n",
    "    df['PRAEGENDE_JUGENDJAHRE_movement'] = df['PRAEGENDE_JUGENDJAHRE'].copy()\n",
    "    df.loc[df['PRAEGENDE_JUGENDJAHRE_movement'].isin([1,3,5,8,14,10,12]),\n",
    "           'PRAEGENDE_JUGENDJAHRE_movement'] = 0\n",
    "\n",
    "    df.loc[df['PRAEGENDE_JUGENDJAHRE_movement'].isin([2,4,9,15,6,11,7,13]),\n",
    "           'PRAEGENDE_JUGENDJAHRE_movement'] = 1\n",
    "    \n",
    "    df['PRAEGENDE_JUGENDJAHRE_generation'] = df['PRAEGENDE_JUGENDJAHRE'].copy()\n",
    "    df.loc[df['PRAEGENDE_JUGENDJAHRE_generation'].isin([1,2]),\n",
    "           'PRAEGENDE_JUGENDJAHRE_generation'] = 0\n",
    "\n",
    "    df.loc[df['PRAEGENDE_JUGENDJAHRE_generation'].isin([3,4]),\n",
    "           'PRAEGENDE_JUGENDJAHRE_generation'] = 1\n",
    "\n",
    "    df.loc[df['PRAEGENDE_JUGENDJAHRE_generation'].isin([5,6,7]),\n",
    "           'PRAEGENDE_JUGENDJAHRE_generation'] = 2\n",
    "\n",
    "    df.loc[df['PRAEGENDE_JUGENDJAHRE_generation'].isin([8,9]),\n",
    "           'PRAEGENDE_JUGENDJAHRE_generation'] = 3\n",
    "\n",
    "    df.loc[df['PRAEGENDE_JUGENDJAHRE_generation'].isin([10,11,12,13]),\n",
    "           'PRAEGENDE_JUGENDJAHRE_generation'] = 4\n",
    "\n",
    "    df.loc[df['PRAEGENDE_JUGENDJAHRE_generation'].isin([14,15]),\n",
    "           'PRAEGENDE_JUGENDJAHRE_generation'] = 5\n",
    "    \n",
    "    df['PRAEGENDE_JUGENDJAHRE_nation'] = df['PRAEGENDE_JUGENDJAHRE'].copy()\n",
    "    df.loc[df['PRAEGENDE_JUGENDJAHRE_nation'].isin([1,2,3,4,5,8,9,14,15]),\n",
    "           'PRAEGENDE_JUGENDJAHRE_nation'] = 0\n",
    "\n",
    "    df.loc[df['PRAEGENDE_JUGENDJAHRE_nation'].isin([6,10,11]),\n",
    "           'PRAEGENDE_JUGENDJAHRE_nation'] = 1\n",
    "\n",
    "    df.loc[df['PRAEGENDE_JUGENDJAHRE_nation'].isin([7,12,13]),\n",
    "           'PRAEGENDE_JUGENDJAHRE_nation'] = 2\n",
    "    \n",
    "    df.loc[df['CAMEO_INTL_2015']=='XX','CAMEO_INTL_2015'] = np.nan\n",
    "\n",
    "    df['CAMEO_INTL_2015_wealth'] = pd.to_numeric(df['CAMEO_INTL_2015'].str[0])\n",
    "    df['CAMEO_INTL_2015_life_stage'] = pd.to_numeric(df['CAMEO_INTL_2015'].str[1])\n",
    "    \n",
    "    df.drop('PRAEGENDE_JUGENDJAHRE',axis=1,inplace=True)\n",
    "    df.drop('CAMEO_INTL_2015',axis=1,inplace=True)\n",
    "\n",
    "    \n",
    "    # Return the cleaned dataframe.\n",
    "    return df\n",
    "    "
   ]
  },
  {
   "cell_type": "markdown",
   "metadata": {},
   "source": [
    "## Step 2: Feature Transformation\n",
    "\n",
    "### Step 2.1: Apply Feature Scaling\n",
    "\n",
    "Before we apply dimensionality reduction techniques to the data, we need to perform feature scaling so that the principal component vectors are not influenced by the natural differences in scale for features. Starting from this part of the project, you'll want to keep an eye on the [API reference page for sklearn](http://scikit-learn.org/stable/modules/classes.html) to help you navigate to all of the classes and functions that you'll need. In this substep, you'll need to check the following:\n",
    "\n",
    "- sklearn requires that data not have missing values in order for its estimators to work properly. So, before applying the scaler to your data, make sure that you've cleaned the DataFrame of the remaining missing values. This can be as simple as just removing all data points with missing data, or applying an [Imputer](http://scikit-learn.org/stable/modules/generated/sklearn.preprocessing.Imputer.html) to replace all missing values. You might also try a more complicated procedure where you temporarily remove missing values in order to compute the scaling parameters before re-introducing those missing values and applying imputation. Think about how much missing data you have and what possible effects each approach might have on your analysis, and justify your decision in the discussion section below.\n",
    "- For the actual scaling function, a [StandardScaler](http://scikit-learn.org/stable/modules/generated/sklearn.preprocessing.StandardScaler.html) instance is suggested, scaling each feature to mean 0 and standard deviation 1.\n",
    "- For these classes, you can make use of the `.fit_transform()` method to both fit a procedure to the data as well as apply the transformation to the data at the same time. Don't forget to keep the fit sklearn objects handy, since you'll be applying them to the customer demographics data towards the end of the project."
   ]
  },
  {
   "cell_type": "code",
   "execution_count": 44,
   "metadata": {},
   "outputs": [],
   "source": [
    "# If you've not yet cleaned the dataset of all NaN values, then investigate and\n",
    "# do that now.\n",
    "imputed_missing = azdias_missing.copy()\n",
    "imputer = Imputer(missing_values=np.nan,strategy='median')\n",
    "azdias_imputed = imputer.fit_transform(imputed_missing)"
   ]
  },
  {
   "cell_type": "code",
   "execution_count": 45,
   "metadata": {},
   "outputs": [],
   "source": [
    "# Apply feature scaling to the general population demographics data\n",
    "scaler = StandardScaler()\n",
    "azdias_scaled = scaler.fit_transform(azdias_imputed)"
   ]
  },
  {
   "cell_type": "code",
   "execution_count": 46,
   "metadata": {},
   "outputs": [
    {
     "data": {
      "text/plain": [
       "(797719, 192)"
      ]
     },
     "execution_count": 46,
     "metadata": {},
     "output_type": "execute_result"
    }
   ],
   "source": [
    "# shape after scale transformation\n",
    "azdias_scaled.shape"
   ]
  },
  {
   "cell_type": "markdown",
   "metadata": {},
   "source": [
    "### Discussion 2.1: Apply Feature Scaling\n",
    "\n",
    "For this part, we have imputed remaining missing values with `median` as it provides a better handling orginal distribution of the data. After that we have scaled the features in our dataset using `StandardScaler` so that we get:\n",
    "- mean = 0\n",
    "- standard_deviation = 1"
   ]
  },
  {
   "cell_type": "markdown",
   "metadata": {},
   "source": [
    "### Step 2.2: Perform Dimensionality Reduction\n",
    "\n",
    "On your scaled data, you are now ready to apply dimensionality reduction techniques.\n",
    "\n",
    "- Use sklearn's [PCA](http://scikit-learn.org/stable/modules/generated/sklearn.decomposition.PCA.html) class to apply principal component analysis on the data, thus finding the vectors of maximal variance in the data. To start, you should not set any parameters (so all components are computed) or set a number of components that is at least half the number of features (so there's enough features to see the general trend in variability).\n",
    "- Check out the ratio of variance explained by each principal component as well as the cumulative variance explained. Try plotting the cumulative or sequential values using matplotlib's [`plot()`](https://matplotlib.org/api/_as_gen/matplotlib.pyplot.plot.html) function. Based on what you find, select a value for the number of transformed features you'll retain for the clustering part of the project.\n",
    "- Once you've made a choice for the number of components to keep, make sure you re-fit a PCA instance to perform the decided-on transformation."
   ]
  },
  {
   "cell_type": "code",
   "execution_count": 47,
   "metadata": {},
   "outputs": [],
   "source": [
    "# Apply PCA to the data.\n",
    "# n_components = half num_features.\n",
    "\n",
    "pca = PCA(azdias_scaled.shape[1]//2)\n",
    "azdias_pca = pca.fit_transform(azdias_scaled)"
   ]
  },
  {
   "cell_type": "code",
   "execution_count": 48,
   "metadata": {},
   "outputs": [],
   "source": [
    "# Investigate the variance accounted for by each principal component.\n",
    "# referance: udacity unsupervised-learning class helper file\n",
    "\n",
    "def scree_plot(pca):\n",
    "    '''\n",
    "    Creates a scree plot associated with the principal components \n",
    "    \n",
    "    INPUT: pca - the result of instantian of PCA in scikit learn\n",
    "            \n",
    "    OUTPUT:\n",
    "            None\n",
    "    '''\n",
    "    num_components=len(pca.explained_variance_ratio_)\n",
    "    ind = np.arange(num_components)\n",
    "    vals = pca.explained_variance_ratio_\n",
    " \n",
    "    plt.figure(figsize=(15, 8))\n",
    "    ax = plt.subplot(111)\n",
    "    cumvals = np.cumsum(vals)\n",
    "    ax.bar(ind, vals)\n",
    "    ax.plot(ind, cumvals)\n",
    " \n",
    "    ax.xaxis.set_tick_params(width=0)\n",
    "    ax.yaxis.set_tick_params(width=2, length=12)\n",
    " \n",
    "    ax.set_xlabel(\"Principal Component\")\n",
    "    ax.set_ylabel(\"Variance Explained (%)\")\n",
    "    plt.title('Explained Variance Per Principal Component')\n",
    "    \n",
    "    print('array shows percent of variance explained for each principal component')\n",
    "    print(np.round(vals,2))"
   ]
  },
  {
   "cell_type": "code",
   "execution_count": 49,
   "metadata": {},
   "outputs": [
    {
     "name": "stdout",
     "output_type": "stream",
     "text": [
      "array shows percent of variance explained for each principal component\n",
      "[ 0.07  0.05  0.03  0.03  0.02  0.02  0.02  0.01  0.01  0.01  0.01  0.01\n",
      "  0.01  0.01  0.01  0.01  0.01  0.01  0.01  0.01  0.01  0.01  0.01  0.01\n",
      "  0.01  0.01  0.01  0.01  0.01  0.01  0.01  0.01  0.01  0.01  0.01  0.01\n",
      "  0.01  0.01  0.01  0.01  0.01  0.01  0.01  0.01  0.01  0.01  0.01  0.01\n",
      "  0.01  0.01  0.01  0.01  0.01  0.01  0.01  0.01  0.01  0.01  0.01  0.01\n",
      "  0.01  0.01  0.01  0.01  0.01  0.01  0.01  0.01  0.01  0.01  0.01  0.01\n",
      "  0.01  0.01  0.01  0.01  0.01  0.01  0.01  0.01  0.01  0.01  0.01  0.01\n",
      "  0.01  0.01  0.01  0.01  0.01  0.    0.    0.    0.    0.    0.    0.  ]\n"
     ]
    },
    {
     "data": {
      "image/png": "[encoded data removed]",
      "text/plain": [
       "<matplotlib.figure.Figure at 0x7f80efc78cf8>"
      ]
     },
     "metadata": {
      "needs_background": "light"
     },
     "output_type": "display_data"
    }
   ],
   "source": [
    "scree_plot(pca)"
   ]
  },
  {
   "cell_type": "code",
   "execution_count": 50,
   "metadata": {},
   "outputs": [
    {
     "name": "stdout",
     "output_type": "stream",
     "text": [
      "array shows percent of variance explained for each principal component\n",
      "[ 0.07  0.05  0.03  0.03  0.02  0.02  0.02  0.01  0.01  0.01  0.01  0.01\n",
      "  0.01  0.01  0.01  0.01  0.01  0.01  0.01  0.01  0.01  0.01  0.01  0.01\n",
      "  0.01  0.01  0.01  0.01  0.01  0.01  0.01  0.01  0.01  0.01  0.01  0.01\n",
      "  0.01  0.01  0.01  0.01  0.01  0.01  0.01  0.01  0.01  0.01  0.01  0.01\n",
      "  0.01  0.01  0.01  0.01  0.01  0.01  0.01  0.01  0.01  0.01  0.01  0.01]\n"
     ]
    },
    {
     "data": {
      "image/png": "[encoded data removed]",
      "text/plain": [
       "<matplotlib.figure.Figure at 0x7f810f8a1da0>"
      ]
     },
     "metadata": {
      "needs_background": "light"
     },
     "output_type": "display_data"
    }
   ],
   "source": [
    "# Re-apply PCA to the data while selecting 60 for number of components to retain.\n",
    "pca = PCA(60)\n",
    "azdias_pca = pca.fit_transform(azdias_scaled)\n",
    "\n",
    "scree_plot(pca)"
   ]
  },
  {
   "cell_type": "markdown",
   "metadata": {},
   "source": [
    "### Discussion 2.2: Perform Dimensionality Reduction\n",
    "\n",
    "At first, we started by choosing a number of components equal to half of our feature in dataset. First component had a variance explained of about 7% and the following about 5% while the rest had around 1%. In total, they explained about 90% of all variance in our data. Hence a good choice would be having 60 principal components where they explain about 70% of all variance in our dataset. We have reduced number of diminsions from 192 to 60 and is a better number of features for performance and for interpretibility as well. "
   ]
  },
  {
   "cell_type": "markdown",
   "metadata": {},
   "source": [
    "### Step 2.3: Interpret Principal Components\n",
    "\n",
    "Now that we have our transformed principal components, it's a nice idea to check out the weight of each variable on the first few components to see if they can be interpreted in some fashion.\n",
    "\n",
    "As a reminder, each principal component is a unit vector that points in the direction of highest variance (after accounting for the variance captured by earlier principal components). The further a weight is from zero, the more the principal component is in the direction of the corresponding feature. If two features have large weights of the same sign (both positive or both negative), then increases in one tend expect to be associated with increases in the other. To contrast, features with different signs can be expected to show a negative correlation: increases in one variable should result in a decrease in the other.\n",
    "\n",
    "- To investigate the features, you should map each weight to their corresponding feature name, then sort the features according to weight. The most interesting features for each principal component, then, will be those at the beginning and end of the sorted list. Use the data dictionary document to help you understand these most prominent features, their relationships, and what a positive or negative value on the principal component might indicate.\n",
    "- You should investigate and interpret feature associations from the first three principal components in this substep. To help facilitate this, you should write a function that you can call at any time to print the sorted list of feature weights, for the *i*-th principal component. This might come in handy in the next step of the project, when you interpret the tendencies of the discovered clusters."
   ]
  },
  {
   "cell_type": "code",
   "execution_count": 51,
   "metadata": {},
   "outputs": [],
   "source": [
    "# reference: helper function from udacity class unsupervised_learning PCA\n",
    "def pca_results(data, pca, num_comp):\n",
    "    '''\n",
    "    Create a DataFrame of the PCA results\n",
    "    Includes component feature weights\n",
    "    '''\n",
    "    # PCA components wanted\n",
    "    num_comp = num_comp-1\n",
    "    \n",
    "    df_component = pd.DataFrame(np.round(pca.components_, 4), columns = data.keys())\n",
    "    pca_comp = df_component.iloc[num_comp]\n",
    "    pca_comp.sort_values(ascending=False,inplace=True)\n",
    "    \n",
    "    top_three = pca_comp.head(3)\n",
    "    bottom_three = pca_comp.tail(3)\n",
    "    \n",
    "    return top_three,bottom_three"
   ]
  },
  {
   "cell_type": "code",
   "execution_count": 52,
   "metadata": {},
   "outputs": [
    {
     "name": "stdout",
     "output_type": "stream",
     "text": [
      "Positive PCA components weights\n",
      "\n",
      "LP_STATUS_GROB_1.0        0.2090\n",
      "CAMEO_INTL_2015_wealth    0.1976\n",
      "HH_EINKOMMEN_SCORE        0.1778\n",
      "Name: 0, dtype: float64\n",
      ">-----------------------------------<\n",
      "Negative PCA components weights\n",
      "\n",
      "FINANZ_MINIMALIST   -0.1895\n",
      "KBA05_ANTG1         -0.1974\n",
      "MOBI_REGIO          -0.2144\n",
      "Name: 0, dtype: float64\n"
     ]
    }
   ],
   "source": [
    "# Map weights for the first principal component to corresponding feature names\n",
    "# and then print the linked values, sorted by weight.\n",
    "# HINT: Try defining a function here or in a new cell that you can reuse in the\n",
    "# other cells.\n",
    "component_1_top,component_1_bottom = pca_results(azdias_missing,pca,1)\n",
    "print('Positive PCA components weights\\n')\n",
    "print(component_1_top)\n",
    "print('>-----------------------------------<')\n",
    "print('Negative PCA components weights\\n')\n",
    "print(component_1_bottom)"
   ]
  },
  {
   "cell_type": "code",
   "execution_count": 53,
   "metadata": {},
   "outputs": [
    {
     "name": "stdout",
     "output_type": "stream",
     "text": [
      "Positive PCA components weights\n",
      "\n",
      "FINANZ_VORSORGER    0.2086\n",
      "ZABEOTYP_3.0        0.2024\n",
      "SEMIO_LUST          0.1975\n",
      "Name: 1, dtype: float64\n",
      ">-----------------------------------<\n",
      "Negative PCA components weights\n",
      "\n",
      "ALTER_HH                           -0.2069\n",
      "GEBURTSJAHR                        -0.2113\n",
      "PRAEGENDE_JUGENDJAHRE_generation   -0.2399\n",
      "Name: 1, dtype: float64\n"
     ]
    }
   ],
   "source": [
    "# Map weights for the second principal component to corresponding feature names\n",
    "# and then print the linked values, sorted by weight.\n",
    "component_2_top,component_2_bottom = pca_results(azdias_missing,pca,2)\n",
    "\n",
    "print('Positive PCA components weights\\n')\n",
    "print(component_2_top)\n",
    "print('>-----------------------------------<')\n",
    "print('Negative PCA components weights\\n')\n",
    "print(component_2_bottom)"
   ]
  },
  {
   "cell_type": "code",
   "execution_count": 54,
   "metadata": {},
   "outputs": [
    {
     "name": "stdout",
     "output_type": "stream",
     "text": [
      "Positive PCA components weights\n",
      "\n",
      "LP_LEBENSPHASE_GROB    0.2728\n",
      "LP_LEBENSPHASE_FEIN    0.2639\n",
      "LP_FAMILIE_GROB_5.0    0.2559\n",
      "Name: 2, dtype: float64\n",
      ">-----------------------------------<\n",
      "Negative PCA components weights\n",
      "\n",
      "INNENSTADT            -0.1561\n",
      "LP_FAMILIE_FEIN_1.0   -0.2525\n",
      "LP_FAMILIE_GROB_1.0   -0.2525\n",
      "Name: 2, dtype: float64\n"
     ]
    }
   ],
   "source": [
    "# Map weights for the third principal component to corresponding feature names\n",
    "# and then print the linked values, sorted by weight.\n",
    "\n",
    "component_3_top,component_3_bottom = pca_results(azdias_missing,pca,3)\n",
    "\n",
    "print('Positive PCA components weights\\n')\n",
    "print(component_3_top)\n",
    "print('>-----------------------------------<')\n",
    "print('Negative PCA components weights\\n')\n",
    "print(component_3_bottom)"
   ]
  },
  {
   "cell_type": "markdown",
   "metadata": {},
   "source": [
    "### Discussion 2.3: Interpret Principal Components\n",
    "\n",
    "Investigating features associated with some pricipal components, there are number of findings:\n",
    "- PCA 1:\n",
    "    - Positive weights:\n",
    "        - LP_STATUS_GROB_1.0: Social status\n",
    "        - CAMEO_INTL_2015_wealth: Household wealth\n",
    "        - HH_EINKOMMEN_SCORE: Estimated household net income\n",
    "    - Negative weights:\n",
    "        - FINANZ_MINIMALIST: Financial topology, low financial interest\n",
    "        - KBA05_ANTG1: Number of 1-2 family houses in the microcell\n",
    "        - MOBI_REGIO: Movement patterns\n",
    "        \n",
    "Component 1 seems to focuses on social status, income level and resulting financing and movement. \n",
    "        \n",
    "- PCA 2:\n",
    "    - Positive weights:\n",
    "        - FINANZ_VORSORGER: finacially be prepared\n",
    "        - ZABEOTYP_3.0: Energy consumption typology, fairly supplied\n",
    "        - SEMIO_LUST: Personality typology, sensual-minded\n",
    "    - Negative weights:\n",
    "        - ALTER_HH: Birthdate of head of household\n",
    "        - GEBURTSJAHR: Year of birth\n",
    "        - PRAEGENDE_JUGENDJAHRE_generation: Dominating movement of person's youth (generation)\n",
    "        \n",
    "Component 2 is related to financial status, age and personality.\n",
    "\n",
    "- PCA 3:\n",
    "    - Positive weights:\n",
    "        - LP_LEBENSPHASE_GROB: Life stage, rough scale\n",
    "        - LP_LEBENSPHASE_FEIN: Life stage, fine scale\n",
    "        - LP_FAMILIE_GROB_5.0: Family type, rough scale, multi-household\n",
    "    - Negative weights:\n",
    "        - INNENSTADT: Distance to city center (downtown)\n",
    "        - LP_FAMILIE_FEIN_1.0: Family type, fine scale, single\n",
    "        - LP_FAMILIE_GROB_1.0: Family type, rough scale, single\n",
    "        \n",
    "Component 3 is related to persons status and its relation to number and location of housing."
   ]
  },
  {
   "cell_type": "markdown",
   "metadata": {},
   "source": [
    "## Step 3: Clustering\n",
    "\n",
    "### Step 3.1: Apply Clustering to General Population\n",
    "\n",
    "You've assessed and cleaned the demographics data, then scaled and transformed them. Now, it's time to see how the data clusters in the principal components space. In this substep, you will apply k-means clustering to the dataset and use the average within-cluster distances from each point to their assigned cluster's centroid to decide on a number of clusters to keep.\n",
    "\n",
    "- Use sklearn's [KMeans](http://scikit-learn.org/stable/modules/generated/sklearn.cluster.KMeans.html#sklearn.cluster.KMeans) class to perform k-means clustering on the PCA-transformed data.\n",
    "- Then, compute the average difference from each point to its assigned cluster's center. **Hint**: The KMeans object's `.score()` method might be useful here, but note that in sklearn, scores tend to be defined so that larger is better. Try applying it to a small, toy dataset, or use an internet search to help your understanding.\n",
    "- Perform the above two steps for a number of different cluster counts. You can then see how the average distance decreases with an increasing number of clusters. However, each additional cluster provides a smaller net benefit. Use this fact to select a final number of clusters in which to group the data. **Warning**: because of the large size of the dataset, it can take a long time for the algorithm to resolve. The more clusters to fit, the longer the algorithm will take. You should test for cluster counts through at least 10 clusters to get the full picture, but you shouldn't need to test for a number of clusters above about 30.\n",
    "- Once you've selected a final number of clusters to use, re-fit a KMeans instance to perform the clustering operation. Make sure that you also obtain the cluster assignments for the general demographics data, since you'll be using them in the final Step 3.3."
   ]
  },
  {
   "cell_type": "code",
   "execution_count": 55,
   "metadata": {},
   "outputs": [],
   "source": [
    "# Over a number of different cluster counts...\n",
    "\n",
    "def kmeans_scores(data, centers):\n",
    "    \n",
    "    # run k-means clustering on the data and...\n",
    "    kmeans = KMeans(n_clusters=centers)\n",
    "\n",
    "    model = kmeans.fit(data)\n",
    "    \n",
    "    # compute the average within-cluster distances.\n",
    "    score = np.abs(model.score(data))\n",
    "    \n",
    "    return score"
   ]
  },
  {
   "cell_type": "code",
   "execution_count": 56,
   "metadata": {},
   "outputs": [
    {
     "data": {
      "text/plain": [
       "(79771, 60)"
      ]
     },
     "execution_count": 56,
     "metadata": {},
     "output_type": "execute_result"
    }
   ],
   "source": [
    "sample_idx = azdias_pca[np.random.choice(azdias_pca.shape[0],int(azdias_pca.shape[0]*0.1),replace=False)]\n",
    "sample_idx.shape"
   ]
  },
  {
   "cell_type": "code",
   "execution_count": 57,
   "metadata": {},
   "outputs": [
    {
     "data": {
      "image/png": "[encoded data removed]",
      "text/plain": [
       "<matplotlib.figure.Figure at 0x7f810f914128>"
      ]
     },
     "metadata": {
      "needs_background": "light"
     },
     "output_type": "display_data"
    }
   ],
   "source": [
    "# Investigate the change in within-cluster distance across number of clusters.\n",
    "# HINT: Use matplotlib's plot function to visualize this relationship.\n",
    "\n",
    "scores = []\n",
    "centers = list(range(10,18))\n",
    "\n",
    "for center in centers:\n",
    "    scores.append(kmeans_scores(sample_idx, center))\n",
    "    \n",
    "plt.plot(centers, scores, linestyle='--', marker='o', color='b');\n",
    "plt.xlabel('K');\n",
    "plt.ylabel('SSE');\n",
    "plt.title('SSE vs. K');"
   ]
  },
  {
   "cell_type": "code",
   "execution_count": 58,
   "metadata": {},
   "outputs": [
    {
     "data": {
      "image/png": "[encoded data removed]",
      "text/plain": [
       "<matplotlib.figure.Figure at 0x7f80efe9ee80>"
      ]
     },
     "metadata": {
      "needs_background": "light"
     },
     "output_type": "display_data"
    }
   ],
   "source": [
    "# Re-fit the k-means model with the selected number of clusters and obtain\n",
    "# cluster predictions for the general population demographics data.\n",
    "\n",
    "scores = []\n",
    "centers = list(range(19,25))\n",
    "\n",
    "for center in centers:\n",
    "    scores.append(kmeans_scores(sample_idx, center))\n",
    "    \n",
    "plt.plot(centers, scores, linestyle='--', marker='o', color='b');\n",
    "plt.xlabel('K');\n",
    "plt.ylabel('SSE');\n",
    "plt.title('SSE vs. K');"
   ]
  },
  {
   "cell_type": "code",
   "execution_count": 59,
   "metadata": {},
   "outputs": [],
   "source": [
    "kmeans = KMeans(23)\n",
    "model = kmeans.fit(azdias_pca)\n",
    "azdias_kmean = model.predict(azdias_pca)"
   ]
  },
  {
   "cell_type": "markdown",
   "metadata": {},
   "source": [
    "### Discussion 3.1: Apply Clustering to General Population\n",
    "First, we worked with a random sample of dataset to speed up the learning process. Then we started learning process with 10 centers and moved to 25 clusters. By scree ploting (centers) and the sum squered distances (sse) for each number of clusters, we were to better evaluate the preformance for different clusters. \n",
    "\n",
    "\n",
    "We choosed to work with 23 clusters. though, the 23 clusters seems applicable beacuse sum of squered distances didn't change much after 23 clusters."
   ]
  },
  {
   "cell_type": "markdown",
   "metadata": {},
   "source": [
    "### Step 3.2: Apply All Steps to the Customer Data\n",
    "\n",
    "Now that you have clusters and cluster centers for the general population, it's time to see how the customer data maps on to those clusters. Take care to not confuse this for re-fitting all of the models to the customer data. Instead, you're going to use the fits from the general population to clean, transform, and cluster the customer data. In the last step of the project, you will interpret how the general population fits apply to the customer data.\n",
    "\n",
    "- Don't forget when loading in the customers data, that it is semicolon (`;`) delimited.\n",
    "- Apply the same feature wrangling, selection, and engineering steps to the customer demographics using the `clean_data()` function you created earlier. (You can assume that the customer demographics data has similar meaning behind missing data patterns as the general demographics data.)\n",
    "- Use the sklearn objects from the general demographics data, and apply their transformations to the customers data. That is, you should not be using a `.fit()` or `.fit_transform()` method to re-fit the old objects, nor should you be creating new sklearn objects! Carry the data through the feature scaling, PCA, and clustering steps, obtaining cluster assignments for all of the data in the customer demographics data."
   ]
  },
  {
   "cell_type": "code",
   "execution_count": 60,
   "metadata": {},
   "outputs": [],
   "source": [
    "# Load in the customer demographics data.\n",
    "customers = pd.read_csv('Udacity_CUSTOMERS_Subset.csv',sep=';')\n",
    "customers_clean = clean_data(customers)"
   ]
  },
  {
   "cell_type": "code",
   "execution_count": 61,
   "metadata": {},
   "outputs": [],
   "source": [
    "# Apply preprocessing, feature transformation, and clustering from the general\n",
    "# demographics onto the customer data, obtaining cluster predictions for the\n",
    "# customer demographics data.\n",
    "\n",
    "customers_imputed = imputer.transform(customers_clean)\n",
    "customers_scaled = scaler.transform(customers_imputed)\n",
    "customers_pca = pca.transform(customers_scaled)\n",
    "\n",
    "customers_kmean = model.predict(customers_pca)"
   ]
  },
  {
   "cell_type": "markdown",
   "metadata": {},
   "source": [
    "### Step 3.3: Compare Customer Data to Demographics Data\n",
    "\n",
    "At this point, you have clustered data based on demographics of the general population of Germany, and seen how the customer data for a mail-order sales company maps onto those demographic clusters. In this final substep, you will compare the two cluster distributions to see where the strongest customer base for the company is.\n",
    "\n",
    "Consider the proportion of persons in each cluster for the general population, and the proportions for the customers. If we think the company's customer base to be universal, then the cluster assignment proportions should be fairly similar between the two. If there are only particular segments of the population that are interested in the company's products, then we should see a mismatch from one to the other. If there is a higher proportion of persons in a cluster for the customer data compared to the general population (e.g. 5% of persons are assigned to a cluster for the general population, but 15% of the customer data is closest to that cluster's centroid) then that suggests the people in that cluster to be a target audience for the company. On the other hand, the proportion of the data in a cluster being larger in the general population than the customer data (e.g. only 2% of customers closest to a population centroid that captures 6% of the data) suggests that group of persons to be outside of the target demographics.\n",
    "\n",
    "Take a look at the following points in this step:\n",
    "\n",
    "- Compute the proportion of data points in each cluster for the general population and the customer data. Visualizations will be useful here: both for the individual dataset proportions, but also to visualize the ratios in cluster representation between groups. Seaborn's [`countplot()`](https://seaborn.pydata.org/generated/seaborn.countplot.html) or [`barplot()`](https://seaborn.pydata.org/generated/seaborn.barplot.html) function could be handy.\n",
    "  - Recall the analysis you performed in step 1.1.3 of the project, where you separated out certain data points from the dataset if they had more than a specified threshold of missing values. If you found that this group was qualitatively different from the main bulk of the data, you should treat this as an additional data cluster in this analysis. Make sure that you account for the number of data points in this subset, for both the general population and customer datasets, when making your computations!\n",
    "- Which cluster or clusters are overrepresented in the customer dataset compared to the general population? Select at least one such cluster and infer what kind of people might be represented by that cluster. Use the principal component interpretations from step 2.3 or look at additional components to help you make this inference. Alternatively, you can use the `.inverse_transform()` method of the PCA and StandardScaler objects to transform centroids back to the original data space and interpret the retrieved values directly.\n",
    "- Perform a similar investigation for the underrepresented clusters. Which cluster or clusters are underrepresented in the customer dataset compared to the general population, and what kinds of people are typified by these clusters?"
   ]
  },
  {
   "cell_type": "code",
   "execution_count": 62,
   "metadata": {},
   "outputs": [],
   "source": [
    "customers_missing = customers[customers.isnull().sum(axis=1)>30]\n",
    "azdias_missing = missing_above_30"
   ]
  },
  {
   "cell_type": "code",
   "execution_count": 63,
   "metadata": {
    "scrolled": true
   },
   "outputs": [
    {
     "data": {
      "text/plain": [
       "<matplotlib.axes._subplots.AxesSubplot at 0x7f80eff085f8>"
      ]
     },
     "execution_count": 63,
     "metadata": {},
     "output_type": "execute_result"
    },
    {
     "data": {
      "image/png": "[encoded data removed]",
      "text/plain": [
       "<matplotlib.figure.Figure at 0x7f810f7eb1d0>"
      ]
     },
     "metadata": {
      "needs_background": "light"
     },
     "output_type": "display_data"
    }
   ],
   "source": [
    "# Compare the proportion of data in each cluster for the customer data to the\n",
    "# proportion of data in each cluster for the general population.\n",
    "\n",
    "customer_proportions = pd.Series(customers_kmean).value_counts(normalize=True)\n",
    "general_proportions = pd.Series(azdias_kmean).value_counts(normalize=True)\n",
    "\n",
    "fig = plt.figure(figsize=(15,4))\n",
    "ax1 = fig.add_subplot(1,2,1)\n",
    "ax1.title.set_text('customers')\n",
    "sns.barplot(customer_proportions.index,customer_proportions.values)\n",
    "\n",
    "ax2 = fig.add_subplot(1,2,2)\n",
    "ax2.title.set_text('general')\n",
    "sns.barplot(general_proportions.index,general_proportions.values)"
   ]
  },
  {
   "cell_type": "code",
   "execution_count": 64,
   "metadata": {
    "scrolled": false
   },
   "outputs": [
    {
     "name": "stdout",
     "output_type": "stream",
     "text": [
      "0\n",
      "customers: 0.00926311627611     general: 0.0330943602948\n",
      "target group\n",
      "the difference: 0.0238312440187\n",
      "\n",
      "1\n",
      "customers: 0.0314042234727     general: 0.0387304301389\n",
      "target group\n",
      "the difference: 0.00732620666625\n",
      "\n",
      "2\n",
      "customers: 0.0388881436348     general: 0.0370706978272\n",
      "off target\n",
      "the difference: -0.0018174458076\n",
      "\n",
      "3\n",
      "customers: 0.0407944251855     general: 0.0462431006407\n",
      "target group\n",
      "the difference: 0.00544867545519\n",
      "\n",
      "4\n",
      "customers: 0.00909366902716     general: 0.0355087443072\n",
      "target group\n",
      "the difference: 0.02641507528\n",
      "\n",
      "5\n",
      "customers: 0.00470922146049     general: 0.0818245522546\n",
      "target group\n",
      "the difference: 0.0771153307941\n",
      "\n",
      "6\n",
      "customers: 0.035541560468     general: 0.041212507161\n",
      "target group\n",
      "the difference: 0.00567094669309\n",
      "\n",
      "7\n",
      "customers: 0.0325974145174     general: 0.0495023937\n",
      "target group\n",
      "the difference: 0.0169049791826\n",
      "\n",
      "8\n",
      "customers: 0.0962813389157     general: 0.0368977045802\n",
      "off target\n",
      "the difference: -0.0593836343355\n",
      "\n",
      "9\n",
      "customers: 0.00725093019479     general: 0.0595347484515\n",
      "target group\n",
      "the difference: 0.0522838182567\n",
      "\n",
      "10\n",
      "customers: 0.0516249285144     general: 0.0481761121397\n",
      "off target\n",
      "the difference: -0.0034488163747\n",
      "\n",
      "11\n",
      "customers: 0.0286577659792     general: 0.0294790521474\n",
      "target group\n",
      "the difference: 0.000821286168207\n",
      "\n",
      "12\n",
      "customers: 0.0829020665504     general: 0.0600198816877\n",
      "off target\n",
      "the difference: -0.0228821848627\n",
      "\n",
      "13\n",
      "customers: 0.12412717016     general: 0.0454182487818\n",
      "off target\n",
      "the difference: -0.0787089213785\n",
      "\n",
      "14\n",
      "customers: 0.0410344754549     general: 0.0318758861203\n",
      "off target\n",
      "the difference: -0.00915858933456\n",
      "\n",
      "15\n",
      "customers: 0.0283400523874     general: 0.0483867126143\n",
      "target group\n",
      "the difference: 0.0200466602269\n",
      "\n",
      "16\n",
      "customers: 0.0207149261845     general: 0.0579038483476\n",
      "target group\n",
      "the difference: 0.0371889221631\n",
      "\n",
      "17\n",
      "customers: 0.134639959897     general: 0.0396079321164\n",
      "off target\n",
      "the difference: -0.095032027781\n",
      "\n",
      "18\n",
      "customers: 0.0963095801238     general: 0.0527930261157\n",
      "off target\n",
      "the difference: -0.0435165540081\n",
      "\n",
      "19\n",
      "customers: 0.0682166383078     general: 0.0111881502133\n",
      "off target\n",
      "the difference: -0.0570284880945\n",
      "\n",
      "20\n",
      "customers: 0.0115788953451     general: 0.0424886457512\n",
      "target group\n",
      "the difference: 0.0309097504061\n",
      "\n",
      "21\n",
      "customers: 0.000889598057005     general: 0.000465076048082\n",
      "off target\n",
      "the difference: -0.000424522008923\n",
      "\n"
     ]
    }
   ],
   "source": [
    "\n",
    "for x in range(0,23):\n",
    "    customer_score = customer_proportions[x]\n",
    "    general_score = general_proportions[x]\n",
    "    if_target = general_score-customer_score\n",
    "    print(x)\n",
    "    print('customers:',customer_score,'   ','general:',general_score)\n",
    "    if if_target < 0 :\n",
    "        print('off target')\n",
    "        print('the difference:',if_target )\n",
    "    else:\n",
    "        print('target group')\n",
    "        print('the difference:', if_target)\n",
    "    print('')"
   ]
  },
  {
   "cell_type": "code",
   "execution_count": 65,
   "metadata": {},
   "outputs": [],
   "source": [
    "# pca features for 3 components\n",
    "component_1 = ['LP_STATUS_GROB_1.0','CAMEO_INTL_2015_wealth','HH_EINKOMMEN_SCORE',\n",
    "                  'FINANZ_MINIMALIST','KBA05_ANTG1','MOBI_REGIO']\n",
    "\n",
    "component_2 = ['FINANZ_VORSORGER','ZABEOTYP_3.0','SEMIO_LUST',\n",
    "                   'ALTER_HH','GEBURTSJAHR','PRAEGENDE_JUGENDJAHRE_generation']\n",
    "\n",
    "component_3 = ['LP_LEBENSPHASE_GROB','LP_LEBENSPHASE_FEIN','LP_FAMILIE_GROB_5.0',\n",
    "                   'INNENSTADT','LP_FAMILIE_FEIN_1.0','LP_FAMILIE_GROB_1.0']"
   ]
  },
  {
   "cell_type": "code",
   "execution_count": 66,
   "metadata": {},
   "outputs": [],
   "source": [
    "# recovering general population dataset from pca \n",
    "back_pca = pca.inverse_transform(azdias_pca)\n",
    "back_general = scaler.inverse_transform(back_pca)\n",
    "general_population = pd.DataFrame(np.round(back_general),columns=imputed_missing.columns)\n",
    "general_population['clusters'] = azdias_kmean"
   ]
  },
  {
   "cell_type": "code",
   "execution_count": 67,
   "metadata": {},
   "outputs": [],
   "source": [
    "# ploting function for recoverd dataset \n",
    "# and specified clusters\n",
    "\n",
    "def cluster_plot(col,k):\n",
    "\n",
    "    cluster_k = general_population[general_population['clusters']==k]\n",
    "    \n",
    "    fig,ax = plt.subplots(2,3, figsize=(20,10))\n",
    "\n",
    "    sns.countplot(cluster_k[col[0]],ax=ax[0,0])\n",
    "    \n",
    "    sns.countplot(cluster_k[col[1]],ax=ax[0,1])\n",
    "\n",
    "    sns.countplot(cluster_k[col[2]],ax=ax[0,2])\n",
    "    \n",
    "    sns.countplot(cluster_k[col[3]],ax=ax[1,0])\n",
    "\n",
    "    sns.countplot(cluster_k[col[4]],ax=ax[1,1])\n",
    "    \n",
    "    sns.countplot(cluster_k[col[5]],ax=ax[1,2])\n",
    "    \n",
    "    \n",
    "    plt.show()"
   ]
  },
  {
   "cell_type": "code",
   "execution_count": 68,
   "metadata": {},
   "outputs": [
    {
     "data": {
      "image/png": "[encoded data removed]",
      "text/plain": [
       "<matplotlib.figure.Figure at 0x7f810f80f400>"
      ]
     },
     "metadata": {
      "needs_background": "light"
     },
     "output_type": "display_data"
    }
   ],
   "source": [
    "# What kinds of people are part of a cluster that is overrepresented in the\n",
    "# customer data compared to the general population?\n",
    "    \n",
    "# cluster number 4 for pca number 1\n",
    "cluster_plot(component_1,0)"
   ]
  },
  {
   "cell_type": "code",
   "execution_count": 69,
   "metadata": {},
   "outputs": [
    {
     "data": {
      "image/png": "[encoded data removed]",
      "text/plain": [
       "<matplotlib.figure.Figure at 0x7f80eff8cfd0>"
      ]
     },
     "metadata": {
      "needs_background": "light"
     },
     "output_type": "display_data"
    }
   ],
   "source": [
    "# cluster number 4 for pca number 2\n",
    "cluster_plot(component_2,0)"
   ]
  },
  {
   "cell_type": "code",
   "execution_count": 70,
   "metadata": {},
   "outputs": [
    {
     "data": {
      "image/png": "[encoded data removed]",
      "text/plain": [
       "<matplotlib.figure.Figure at 0x7f80ee788cf8>"
      ]
     },
     "metadata": {
      "needs_background": "light"
     },
     "output_type": "display_data"
    }
   ],
   "source": [
    "# cluster number 4 for pca number 3\n",
    "cluster_plot(component_3,0)"
   ]
  },
  {
   "cell_type": "code",
   "execution_count": 77,
   "metadata": {},
   "outputs": [
    {
     "data": {
      "image/png": "[encoded data removed]",
      "text/plain": [
       "<matplotlib.figure.Figure at 0x7f80ee8da780>"
      ]
     },
     "metadata": {
      "needs_background": "light"
     },
     "output_type": "display_data"
    }
   ],
   "source": [
    "# What kinds of people are part of a cluster that is underrepresented in the\n",
    "# customer data compared to the general population?\n",
    "\n",
    "# cluster number 8 for pca number 1\n",
    "cluster_plot(component_1,8)"
   ]
  },
  {
   "cell_type": "code",
   "execution_count": 78,
   "metadata": {},
   "outputs": [
    {
     "data": {
      "image/png": "[encoded data removed]",
      "text/plain": [
       "<matplotlib.figure.Figure at 0x7f80ee5ef898>"
      ]
     },
     "metadata": {
      "needs_background": "light"
     },
     "output_type": "display_data"
    }
   ],
   "source": [
    "# cluster number 8 for pca number 2\n",
    "cluster_plot(component_2,8)"
   ]
  },
  {
   "cell_type": "code",
   "execution_count": 79,
   "metadata": {},
   "outputs": [
    {
     "data": {
      "image/png": "[encoded data removed]",
      "text/plain": [
       "<matplotlib.figure.Figure at 0x7f80efdb0438>"
      ]
     },
     "metadata": {
      "needs_background": "light"
     },
     "output_type": "display_data"
    }
   ],
   "source": [
    "# cluster number 8 for pca number 3\n",
    "cluster_plot(component_3,8)"
   ]
  },
  {
   "cell_type": "markdown",
   "metadata": {},
   "source": [
    "### Discussion 3.3: Compare Customer Data to Demographics Data\n",
    "\n",
    "Through this analysis, we found that in terms of general population, middle class and lower families and indivisuals can be target future customers for the company. As customer dataset showed that the company is well established among upper-middle class families and indivisuals who live a bit far from city-centers and with few movement. For age, persons of almost ages of  50-60 are some potential customers as found from general population clusters that are similer to customer clusters. \n",
    "\n",
    "There are some differences between the clusters obtained for customer dataset and for the general population. \n",
    "\n",
    "For the population groups that should focused on for targeted adds: \n",
    "- For group of people in pca component 1 in cluster 0. \n",
    "    - we can see that the population can be described as low middle class families of different span of ages with 1-2 houses and have high movement pattern. This group is with high potential to be future customers. Customer dataset for cluster 4 didn't capture this information which indicates the dataset didn't capture this group of demographic.\n",
    "    \n",
    "- For group of people in pca component 2 in cluster 0\n",
    "    - we can see that the population can be described as lower financial standing, low sensual personality, born between 1940s to 1970s and raised in those years. This group is with high potential to be future customers. Customer dataset for cluster 4 didn't capture this information which indicates the dataset didn't capture this group of demographic.\n",
    "    \n",
    "- For group of people in pca component 3 in cluster 0\n",
    "     - we can see that the population can be described as low income aged indivisiuals, single midle aged average earner to old home owner, 5-15km from city-center and singles as whole. This group is with high potential to be future customers. Customer dataset for cluster 0 didn't capture this information which indicates the dataset didn't capture this group of demographic.\n",
    "     \n",
    "In conclusion, comparing different clusters where general population dataset were underrepresented using grouped features by pca components showed there are potential benefets to futher analyes other groupings where underrepresentation is present. We have showed how a segment of people with similar characteristics can help distiguish possible future customers. "
   ]
  },
  {
   "cell_type": "markdown",
   "metadata": {},
   "source": [
    "> Congratulations on making it this far in the project! Before you finish, make sure to check through the entire notebook from top to bottom to make sure that your analysis follows a logical flow and all of your findings are documented in **Discussion** cells. Once you've checked over all of your work, you should export the notebook as an HTML document to submit for evaluation. You can do this from the menu, navigating to **File -> Download as -> HTML (.html)**. You will submit both that document and this notebook for your project submission."
   ]
  },
  {
   "cell_type": "code",
   "execution_count": null,
   "metadata": {},
   "outputs": [],
   "source": []
  }
 ],
 "metadata": {
  "kernelspec": {
   "display_name": "Python 3",
   "language": "python",
   "name": "python3"
  },
  "language_info": {
   "codemirror_mode": {
    "name": "ipython",
    "version": 3
   },
   "file_extension": ".py",
   "mimetype": "text/x-python",
   "name": "python",
   "nbconvert_exporter": "python",
   "pygments_lexer": "ipython3",
   "version": "3.8.3"
  }
 },
 "nbformat": 4,
 "nbformat_minor": 2
}
